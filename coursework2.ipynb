{
 "cells": [
  {
   "cell_type": "markdown",
   "metadata": {},
   "source": [
    "# Coursework 1 - Mathematics for Machine Learning"
   ]
  },
  {
   "cell_type": "markdown",
   "metadata": {},
   "source": [
    "## Due: 25/03/2025\n",
    "\n",
    "## CID: 02021144\n",
    "\n",
    "***\n",
    "***"
   ]
  },
  {
   "cell_type": "markdown",
   "metadata": {},
   "source": [
    "## Exercise 1: Quick questions [2 points]"
   ]
  },
  {
   "cell_type": "markdown",
   "metadata": {},
   "source": [
    "#### Question 1:\n",
    "\n",
    "Enter your answer here"
   ]
  },
  {
   "cell_type": "markdown",
   "metadata": {},
   "source": [
    "#### Question 2:\n",
    "\n",
    "Enter your answer here"
   ]
  },
  {
   "cell_type": "markdown",
   "metadata": {},
   "source": [
    "#### Question 3:\n",
    "\n",
    "Enter your answer here"
   ]
  },
  {
   "cell_type": "markdown",
   "metadata": {},
   "source": [
    "#### Question 4:\n",
    "\n",
    "Enter your answer here"
   ]
  },
  {
   "cell_type": "markdown",
   "metadata": {},
   "source": [
    "*** \n",
    "***\n",
    "\n",
    "## Exercise 2: [6 points]"
   ]
  },
  {
   "cell_type": "markdown",
   "metadata": {},
   "source": [
    "\n",
    "### Question 1 [2 points]\n"
   ]
  },
  {
   "cell_type": "markdown",
   "metadata": {},
   "source": []
  },
  {
   "cell_type": "markdown",
   "metadata": {},
   "source": [
    "***\n",
    "\n",
    "### Question 2 [2 points]"
   ]
  },
  {
   "cell_type": "markdown",
   "metadata": {},
   "source": []
  },
  {
   "cell_type": "markdown",
   "metadata": {},
   "source": [
    "***\n",
    "\n",
    "### Question 3 [2 points]"
   ]
  },
  {
   "cell_type": "markdown",
   "metadata": {},
   "source": []
  },
  {
   "cell_type": "markdown",
   "metadata": {},
   "source": [
    "***\n",
    "***\n",
    "\n",
    "## Exercise 3: Implementation [13 points]"
   ]
  },
  {
   "cell_type": "code",
   "execution_count": 1,
   "metadata": {
    "ExecuteTime": {
     "end_time": "2025-03-17T23:13:43.455625Z",
     "start_time": "2025-03-17T23:13:41.048140Z"
    }
   },
   "outputs": [],
   "source": [
    "import os\n",
    "import numpy as np\n",
    "import torch\n",
    "import torchvision\n",
    "import torchvision.transforms as transforms\n",
    "import matplotlib.pyplot as plt\n",
    "import torch.nn as nn\n",
    "import torch.nn.functional as F\n",
    "import torch.optim as optim\n",
    "\n",
    "import torchsummary"
   ]
  },
  {
   "cell_type": "markdown",
   "metadata": {},
   "source": [
    "## Part 1: Image classification [4 points]"
   ]
  },
  {
   "cell_type": "markdown",
   "metadata": {},
   "source": [
    "***\n",
    "### Question 1 [0.5 point]"
   ]
  },
  {
   "cell_type": "markdown",
   "metadata": {},
   "source": [
    "\n",
    "Download the dataset from\n",
    "https://chaladze.com/l5/img/Linnaeus%205%2032X32.rar\n",
    "and uncompress the .rar dataset to a folder named \"Linnaeus_5_32X32\" in the current directory.\n",
    "This folder contains a subfolder \"Linnaeus 5 32X32\", which contains a test and a train folder with the images of the dataset in 5 different classes: berry, bird, dog, flower, other."
   ]
  },
  {
   "cell_type": "code",
   "execution_count": 2,
   "metadata": {
    "ExecuteTime": {
     "end_time": "2025-03-17T23:13:43.477082Z",
     "start_time": "2025-03-17T23:13:43.457369Z"
    }
   },
   "outputs": [],
   "source": [
    "transform = transforms.Compose(\n",
    "    [transforms.ToTensor(),\n",
    "     transforms.Normalize((0.5, 0.5, 0.5), (0.5, 0.5, 0.5))])\n",
    "\n",
    "batch_size = 128\n",
    "\n",
    "# trainset = torchvision.datasets.ImageFolder(root=\"Linnaeus_5_32X32\\\\Linnaeus 5 32X32\\\\train\", transform=transform)\n",
    "trainset = torchvision.datasets.ImageFolder(root=\"Linnaeus_5_32X32/Linnaeus 5 32X32/train\", transform=transform)\n",
    "\n",
    "trainloader = torch.utils.data.DataLoader(trainset, batch_size=batch_size, shuffle=True)\n",
    "\n",
    "# testset = torchvision.datasets.ImageFolder(root=\"Linnaeus_5_32X32\\\\Linnaeus 5 32X32\\\\test\", transform=transform)\n",
    "testset = torchvision.datasets.ImageFolder(root=\"Linnaeus_5_32X32/Linnaeus 5 32X32/test\", transform=transform)\n",
    "\n",
    "testloader = torch.utils.data.DataLoader(testset, batch_size=batch_size, shuffle=False,)\n",
    "\n",
    "classes = ('berry', 'bird', 'dog', 'flower', 'other')"
   ]
  },
  {
   "cell_type": "code",
   "execution_count": 3,
   "metadata": {
    "ExecuteTime": {
     "end_time": "2025-03-17T23:13:43.577651Z",
     "start_time": "2025-03-17T23:13:43.572054Z"
    }
   },
   "outputs": [
    {
     "data": {
      "text/plain": [
       "['berry', 'bird', 'dog', 'flower', 'other']"
      ]
     },
     "execution_count": 3,
     "metadata": {},
     "output_type": "execute_result"
    }
   ],
   "source": [
    "trainset.classes"
   ]
  },
  {
   "cell_type": "code",
   "execution_count": 4,
   "metadata": {
    "ExecuteTime": {
     "end_time": "2025-03-17T23:13:44.970448Z",
     "start_time": "2025-03-17T23:13:43.587159Z"
    }
   },
   "outputs": [
    {
     "name": "stderr",
     "output_type": "stream",
     "text": [
      "Clipping input data to the valid range for imshow with RGB data ([0..1] for floats or [0..255] for integers). Got range [-1.0..0.9764706].\n",
      "Clipping input data to the valid range for imshow with RGB data ([0..1] for floats or [0..255] for integers). Got range [-0.827451..1.0].\n",
      "Clipping input data to the valid range for imshow with RGB data ([0..1] for floats or [0..255] for integers). Got range [-0.99215686..0.7647059].\n",
      "Clipping input data to the valid range for imshow with RGB data ([0..1] for floats or [0..255] for integers). Got range [-1.0..0.827451].\n",
      "Clipping input data to the valid range for imshow with RGB data ([0..1] for floats or [0..255] for integers). Got range [-0.90588236..0.92156863].\n"
     ]
    },
    {
     "data": {
      "image/png": "[encoded data removed]",
      "text/plain": [
       "<Figure size 1500x300 with 5 Axes>"
      ]
     },
     "metadata": {},
     "output_type": "display_data"
    }
   ],
   "source": [
    "to_display = {cls: None for cls in trainset.classes}\n",
    "idx_to_class = {i: c for c, i in trainset.class_to_idx.items()}\n",
    "i = 0\n",
    "j = 0\n",
    "for img, label in trainset:\n",
    "    if to_display[idx_to_class[label]] is None:\n",
    "        to_display[idx_to_class[label]] = img\n",
    "        i += 1\n",
    "    if i >= len(trainset.classes):\n",
    "        break\n",
    "\n",
    "fig, axs = plt.subplots(1, len(trainset.classes), figsize=(15, 3))\n",
    "for i in range(len(trainset.classes)):\n",
    "    cls = trainset.classes[i]\n",
    "    axs[i].imshow(to_display[cls].numpy().transpose(1, 2, 0))\n",
    "    axs[i].axis('off')\n",
    "    axs[i].set_title(cls)\n",
    "plt.show()"
   ]
  },
  {
   "cell_type": "markdown",
   "metadata": {},
   "source": [
    "### Question 2 [0.5 point]"
   ]
  },
  {
   "cell_type": "markdown",
   "metadata": {},
   "source": [
    "```\n",
    "transform = transforms.Compose([\n",
    "    transforms.ToTensor (),W\n",
    "    transforms . Normalize ((0.5 , 0.5 , 0.5) , (0.5 , 0.5 , 0.5)\n",
    ")]\n",
    "```\n",
    "The above transform first takes an input image (either a PIL image or numpy array of shape (H, W, C)) and converts it into a torch tensor of shape (C, H, W) whilst scaling from [0, 255] to [0, 1]. Then the normalise transform applies channel-wise normalisation for each pixel. It computes $x_{norm} = \\frac{x-0.5}{0.5}$. This transforms the pixel ranges from [0, 1] to [-1, 1].\n"
   ]
  },
  {
   "cell_type": "markdown",
   "metadata": {},
   "source": [
    "***\n",
    "### Question 3 [1 point]"
   ]
  },
  {
   "cell_type": "code",
   "execution_count": 5,
   "metadata": {
    "ExecuteTime": {
     "end_time": "2025-03-17T23:13:44.977029Z",
     "start_time": "2025-03-17T23:13:44.970448Z"
    }
   },
   "outputs": [],
   "source": [
    "class myCNN(nn.Module):\n",
    "    def __init__(self):\n",
    "        super(myCNN, self).__init__()\n",
    "        self.conv1 = nn.Conv2d(in_channels=3, out_channels=32, kernel_size=3, stride=1, padding=1)\n",
    "        self.conv2 = nn.Conv2d(in_channels=32, out_channels=64, kernel_size=3, stride=1, padding=1)\n",
    "        self.mp1 = nn.MaxPool2d(kernel_size=2, stride=2)\n",
    "        self.conv3 = nn.Conv2d(in_channels=64, out_channels=128, kernel_size=3, stride=1, padding=1)\n",
    "        self.conv4 = nn.Conv2d(in_channels=128, out_channels=128, kernel_size=3, stride=1, padding=1)\n",
    "        self.mp2 = nn.MaxPool2d(kernel_size=2, stride=2)\n",
    "        self.conv5 = nn.Conv2d(in_channels=128, out_channels=256, kernel_size=3, stride=1, padding=1)\n",
    "        self.conv6 = nn.Conv2d(in_channels=256, out_channels=256, kernel_size=3, stride=1, padding=1)\n",
    "        self.mp3 = nn.MaxPool2d(kernel_size=2, stride=2)\n",
    "\n",
    "        self.fc1 = nn.Linear(in_features=4096, out_features=512)\n",
    "        self.fc2 = nn.Linear(in_features=512, out_features=64)\n",
    "        self.fc3 = nn.Linear(in_features=64, out_features=5)\n",
    "\n",
    "        self.relu = nn.ReLU()\n",
    "\n",
    "    def forward(self, x, get_features=False):\n",
    "        # cnn\n",
    "        x = self.relu(self.conv1(x))\n",
    "        x = self.relu(self.conv2(x))\n",
    "        x = self.mp1(x)\n",
    "        x = self.relu(self.conv3(x))\n",
    "        x = self.relu(self.conv4(x))\n",
    "        x = self.mp2(x)\n",
    "        x = self.relu(self.conv5(x))\n",
    "        x = self.relu(self.conv6(x))\n",
    "        x = self.mp3(x)\n",
    "\n",
    "        if get_features:\n",
    "            return x\n",
    "\n",
    "        # flatten\n",
    "        x = x.view(-1, 4096)\n",
    "\n",
    "        # fcn\n",
    "        x = self.relu(self.fc1(x))\n",
    "        x = self.relu(self.fc2(x))\n",
    "        x = self.fc3(x)\n",
    "\n",
    "        return x"
   ]
  },
  {
   "cell_type": "markdown",
   "metadata": {},
   "source": [
    "***\n",
    "### Question 4 [0.5 point]"
   ]
  },
  {
   "cell_type": "code",
   "execution_count": 6,
   "metadata": {
    "ExecuteTime": {
     "end_time": "2025-03-17T23:13:45.523839Z",
     "start_time": "2025-03-17T23:13:44.986656Z"
    }
   },
   "outputs": [
    {
     "name": "stdout",
     "output_type": "stream",
     "text": [
      "----------------------------------------------------------------\n",
      "        Layer (type)               Output Shape         Param #\n",
      "================================================================\n",
      "            Conv2d-1           [-1, 32, 32, 32]             896\n",
      "              ReLU-2           [-1, 32, 32, 32]               0\n",
      "            Conv2d-3           [-1, 64, 32, 32]          18,496\n",
      "              ReLU-4           [-1, 64, 32, 32]               0\n",
      "         MaxPool2d-5           [-1, 64, 16, 16]               0\n",
      "            Conv2d-6          [-1, 128, 16, 16]          73,856\n",
      "              ReLU-7          [-1, 128, 16, 16]               0\n",
      "            Conv2d-8          [-1, 128, 16, 16]         147,584\n",
      "              ReLU-9          [-1, 128, 16, 16]               0\n",
      "        MaxPool2d-10            [-1, 128, 8, 8]               0\n",
      "           Conv2d-11            [-1, 256, 8, 8]         295,168\n",
      "             ReLU-12            [-1, 256, 8, 8]               0\n",
      "           Conv2d-13            [-1, 256, 8, 8]         590,080\n",
      "             ReLU-14            [-1, 256, 8, 8]               0\n",
      "        MaxPool2d-15            [-1, 256, 4, 4]               0\n",
      "           Linear-16                  [-1, 512]       2,097,664\n",
      "             ReLU-17                  [-1, 512]               0\n",
      "           Linear-18                   [-1, 64]          32,832\n",
      "             ReLU-19                   [-1, 64]               0\n",
      "           Linear-20                    [-1, 5]             325\n",
      "================================================================\n",
      "Total params: 3,256,901\n",
      "Trainable params: 3,256,901\n",
      "Non-trainable params: 0\n",
      "----------------------------------------------------------------\n",
      "Input size (MB): 0.01\n",
      "Forward/backward pass size (MB): 3.23\n",
      "Params size (MB): 12.42\n",
      "Estimated Total Size (MB): 15.66\n",
      "----------------------------------------------------------------\n"
     ]
    }
   ],
   "source": [
    "torchsummary.summary(myCNN().cuda(), (3, 32, 32))"
   ]
  },
  {
   "cell_type": "markdown",
   "metadata": {},
   "source": [
    "***\n",
    "### Question 5 [0.5 point]"
   ]
  },
  {
   "cell_type": "code",
   "execution_count": 7,
   "metadata": {
    "ExecuteTime": {
     "end_time": "2025-03-17T23:13:45.523839600Z",
     "start_time": "2025-03-17T21:03:56.460759Z"
    }
   },
   "outputs": [],
   "source": [
    "def train(myCNN, nr_epochs, optimizer ,criterion, trainloader):\n",
    "\n",
    "    device = torch.device(\"cuda:0\" if torch.cuda.is_available() else \"cpu\")\n",
    "    model.to(device)\n",
    "    criterion.to(device)\n",
    "\n",
    "\n",
    "    for epoch in range(nr_epochs):\n",
    "        for inputs, labels in trainloader:\n",
    "            optimizer.zero_grad()\n",
    "\n",
    "            inputs = inputs.to(device)\n",
    "            labels = labels.to(device)\n",
    "\n",
    "            outputs = myCNN(inputs)\n",
    "            loss = criterion(outputs, labels)\n",
    "            loss.backward()\n",
    "\n",
    "            nputs = inputs.cpu()\n",
    "            labels = labels.cpu()\n",
    "\n",
    "            optimizer.step()\n",
    "\n",
    "\n",
    "        if epoch % 1 == 0:\n",
    "            print('Epoch [{}/{}], Loss: {:.4f}'.format(epoch, nr_epochs, loss.item()))\n",
    "\n",
    "    model.cpu()\n",
    "    criterion.cpu()"
   ]
  },
  {
   "cell_type": "markdown",
   "metadata": {},
   "source": [
    "***\n",
    "### Question 6 [0.5 point]"
   ]
  },
  {
   "cell_type": "code",
   "execution_count": 8,
   "metadata": {
    "ExecuteTime": {
     "end_time": "2025-03-17T23:13:45.523839600Z",
     "start_time": "2025-03-17T21:03:57.267438Z"
    }
   },
   "outputs": [
    {
     "name": "stdout",
     "output_type": "stream",
     "text": [
      "Epoch [0/30], Loss: 1.4070\n",
      "Epoch [1/30], Loss: 1.2738\n",
      "Epoch [2/30], Loss: 1.3283\n",
      "Epoch [3/30], Loss: 1.2450\n",
      "Epoch [4/30], Loss: 1.2149\n",
      "Epoch [5/30], Loss: 1.2816\n",
      "Epoch [6/30], Loss: 1.1733\n",
      "Epoch [7/30], Loss: 1.1108\n",
      "Epoch [8/30], Loss: 1.0217\n",
      "Epoch [9/30], Loss: 0.7597\n",
      "Epoch [10/30], Loss: 0.9319\n",
      "Epoch [11/30], Loss: 0.6584\n",
      "Epoch [12/30], Loss: 0.5902\n",
      "Epoch [13/30], Loss: 0.6845\n",
      "Epoch [14/30], Loss: 0.5496\n",
      "Epoch [15/30], Loss: 0.6232\n",
      "Epoch [16/30], Loss: 0.3814\n",
      "Epoch [17/30], Loss: 0.3613\n",
      "Epoch [18/30], Loss: 0.3442\n",
      "Epoch [19/30], Loss: 0.1980\n",
      "Epoch [20/30], Loss: 0.2919\n",
      "Epoch [21/30], Loss: 0.2655\n",
      "Epoch [22/30], Loss: 0.1310\n",
      "Epoch [23/30], Loss: 0.1670\n",
      "Epoch [24/30], Loss: 0.0793\n",
      "Epoch [25/30], Loss: 0.0897\n",
      "Epoch [26/30], Loss: 0.1540\n",
      "Epoch [27/30], Loss: 0.0734\n",
      "Epoch [28/30], Loss: 0.1289\n",
      "Epoch [29/30], Loss: 0.0534\n"
     ]
    }
   ],
   "source": [
    "model = myCNN()\n",
    "\n",
    "n_epochs = 30\n",
    "optim = torch.optim.Adam(model.parameters(), lr=0.001)\n",
    "criterion = nn.CrossEntropyLoss()\n",
    "\n",
    "train(model, n_epochs, optim, criterion, trainloader)"
   ]
  },
  {
   "cell_type": "code",
   "execution_count": 10,
   "metadata": {},
   "outputs": [],
   "source": [
    "torch.save(model.state_dict(), 'mycnn.pth')"
   ]
  },
  {
   "cell_type": "markdown",
   "metadata": {},
   "source": [
    "***\n",
    "### Question 7 [0.5 point]"
   ]
  },
  {
   "cell_type": "code",
   "execution_count": 8,
   "metadata": {
    "ExecuteTime": {
     "end_time": "2025-03-17T23:13:45.528780400Z",
     "start_time": "2025-03-17T20:51:47.369353Z"
    }
   },
   "outputs": [
    {
     "name": "stdout",
     "output_type": "stream",
     "text": [
      " Accuracy for class ’berry’: 73.44% \n",
      " Accuracy for class ’bird’: 60.74% \n",
      " Accuracy for class ’dog’: 77.73% \n",
      " Accuracy for class ’flower’: 72.07% \n",
      " Accuracy for class ’other’: 67.03% \n"
     ]
    }
   ],
   "source": [
    "def accuracy(model, testloader):\n",
    "\n",
    "    device = torch.device(\"cuda:0\" if torch.cuda.is_available() else \"cpu\")\n",
    "    correct = {n: 0 for n in range(5)}\n",
    "    total = {n: 0 for n in range(5)}\n",
    "    model.to(device).eval()\n",
    "\n",
    "    with torch.no_grad():\n",
    "        for inputs, labels in testloader:\n",
    "            output = model(inputs.to(device))\n",
    "            output_argmax = torch.argmax(output, dim=-1).cpu()\n",
    "    \n",
    "            for u in torch.unique(labels):\n",
    "                idxs = labels == output_argmax\n",
    "                correct_for_class = torch.sum(labels[idxs] == output_argmax[idxs]).item()\n",
    "                correct[u.item()] += correct_for_class\n",
    "                total[u.item()] += labels.shape[0]\n",
    "\n",
    "    c = testloader.dataset.class_to_idx\n",
    "    for class_name in testloader.dataset.classes :\n",
    "        print (f\" Accuracy for class ’{class_name}’: {correct[c[class_name]] / total[c[class_name]] * 100:.2f}% \")\n",
    "\n",
    "cnn = myCNN()\n",
    "cnn.load_state_dict(torch.load('mycnn.pth', weights_only=True))\n",
    "cnn.eval()\n",
    "\n",
    "accuracy(cnn, testloader)"
   ]
  },
  {
   "cell_type": "markdown",
   "metadata": {},
   "source": [
    "***\n",
    "## Part 2: Fine-tuning a pretrained model [3.5 points]"
   ]
  },
  {
   "cell_type": "markdown",
   "metadata": {},
   "source": [
    "### Question 1 [0.5 point]"
   ]
  },
  {
   "cell_type": "code",
   "execution_count": 9,
   "metadata": {
    "ExecuteTime": {
     "end_time": "2025-03-17T23:13:45.528780400Z",
     "start_time": "2025-03-17T20:51:47.380224Z"
    }
   },
   "outputs": [],
   "source": [
    "transform_small = transforms.Compose(\n",
    "    [transforms.ToTensor(),\n",
    "     transforms.Normalize((0.5, 0.5, 0.5), (0.5, 0.5, 0.5))])\n",
    "\n",
    "batch_size_small = 128\n",
    "\n",
    "# trainset_small = torchvision.datasets.ImageFolder(root=\"Linnaeus_5_32X32_small\\\\train\", transform=transform)\n",
    "trainset_small = torchvision.datasets.ImageFolder(root=\"Linnaeus_5_32X32_small/train\", transform=transform_small)\n",
    "\n",
    "trainloader_small = torch.utils.data.DataLoader(trainset_small, batch_size=batch_size_small, shuffle=True)\n",
    "\n",
    "# testset_small = torchvision.datasets.ImageFolder(root=\"Linnaeus_5_32X32_small\\\\test\", transform=transform)\n",
    "testset_small = torchvision.datasets.ImageFolder(root=\"Linnaeus_5_32X32_small/test\", transform=transform_small)\n",
    "\n",
    "testloader_small = torch.utils.data.DataLoader(testset_small, batch_size=batch_size_small, shuffle=False,)"
   ]
  },
  {
   "cell_type": "markdown",
   "metadata": {},
   "source": [
    "***\n",
    "### Question 2 [1 point]"
   ]
  },
  {
   "cell_type": "markdown",
   "metadata": {},
   "source": [
    "LogSoftmax: Converts the raw logits (i.e. the unbounded output of the final linear layer) into log probabilities. This step is critical because:\n",
    "\n",
    "It ensures numerical stability.\n",
    "It provides inputs in the form that NLLLoss expects."
   ]
  },
  {
   "cell_type": "code",
   "execution_count": 10,
   "metadata": {
    "ExecuteTime": {
     "end_time": "2025-03-17T23:13:45.532792600Z",
     "start_time": "2025-03-17T20:51:47.390807Z"
    }
   },
   "outputs": [],
   "source": [
    "class myMLP(nn.Module):\n",
    "    def __init__(self):\n",
    "        super(myMLP, self).__init__()\n",
    "        self.fc1 = nn.Linear(4096, 128)\n",
    "        self.fc2 = nn.Linear(128, 128)\n",
    "        self.fc3 = nn.Linear(128, 2)\n",
    "        \n",
    "        self.relu = nn.ReLU()\n",
    "        \n",
    "        self.act = nn.LogSoftmax(dim=-1)\n",
    "\n",
    "    def forward(self, x):\n",
    "        x = self.relu(self.fc1(x))\n",
    "        x = self.relu(self.fc2(x))\n",
    "        x = self.fc3(x)\n",
    "        \n",
    "        x = self.act(x)\n",
    "        return x"
   ]
  },
  {
   "cell_type": "code",
   "execution_count": 11,
   "metadata": {
    "ExecuteTime": {
     "end_time": "2025-03-17T23:13:45.534913100Z",
     "start_time": "2025-03-17T20:51:47.401484Z"
    }
   },
   "outputs": [
    {
     "name": "stdout",
     "output_type": "stream",
     "text": [
      "----------------------------------------------------------------\n",
      "        Layer (type)               Output Shape         Param #\n",
      "================================================================\n",
      "            Linear-1                  [-1, 128]         524,416\n",
      "              ReLU-2                  [-1, 128]               0\n",
      "            Linear-3                  [-1, 128]          16,512\n",
      "              ReLU-4                  [-1, 128]               0\n",
      "            Linear-5                    [-1, 2]             258\n",
      "        LogSoftmax-6                    [-1, 2]               0\n",
      "================================================================\n",
      "Total params: 541,186\n",
      "Trainable params: 541,186\n",
      "Non-trainable params: 0\n",
      "----------------------------------------------------------------\n",
      "Input size (MB): 0.02\n",
      "Forward/backward pass size (MB): 0.00\n",
      "Params size (MB): 2.06\n",
      "Estimated Total Size (MB): 2.08\n",
      "----------------------------------------------------------------\n"
     ]
    }
   ],
   "source": [
    "torchsummary.summary(myMLP().cuda(), input_size=(4096,))"
   ]
  },
  {
   "cell_type": "markdown",
   "metadata": {},
   "source": [
    "***\n",
    "### Question 3 [0.5 point]"
   ]
  },
  {
   "cell_type": "code",
   "execution_count": 12,
   "metadata": {},
   "outputs": [],
   "source": [
    "def fine_tune(myCNN, myMLP, nr_epochs, optimizer, criterion, trainloader):\n",
    "\n",
    "    device = torch.device(\"cuda:0\" if torch.cuda.is_available() else \"cpu\")\n",
    "    myMLP.to(device)\n",
    "    myCNN.to(device)\n",
    "    batch_size = trainloader.batch_size\n",
    "    \n",
    "    criterion.to(device)\n",
    "\n",
    "    # freeze cnn\n",
    "    for param in myCNN.parameters():\n",
    "        param.requires_grad = False\n",
    "\n",
    "    for epoch in range(nr_epochs):\n",
    "        for inputs, labels in trainloader:\n",
    "            optimizer.zero_grad()\n",
    "\n",
    "            inputs = inputs.to(device)\n",
    "            labels = labels.to(device)\n",
    "            \n",
    "            features = myCNN.forward(inputs, get_features=True)\n",
    "            features = features.view(features.shape[0], -1)\n",
    "            outputs = myMLP(features)\n",
    "            \n",
    "            loss = criterion(outputs, labels)\n",
    "            loss.backward()\n",
    "\n",
    "            inputs = inputs.cpu()\n",
    "            labels = labels.cpu()\n",
    "\n",
    "            optimizer.step()\n",
    "\n",
    "\n",
    "        if epoch % 1 == 0:\n",
    "            print('Epoch [{}/{}], Loss: {:.8f}'.format(epoch, nr_epochs, loss.item()))\n",
    "\n",
    "    myMLP.cpu()\n",
    "    myCNN.cpu()\n",
    "    criterion.cpu()"
   ]
  },
  {
   "cell_type": "markdown",
   "metadata": {},
   "source": [
    "***\n",
    "### Question 4 [0.5 point]"
   ]
  },
  {
   "cell_type": "code",
   "execution_count": 23,
   "metadata": {
    "ExecuteTime": {
     "end_time": "2025-03-17T23:13:45.535415600Z",
     "start_time": "2025-03-17T20:51:47.420639Z"
    }
   },
   "outputs": [
    {
     "name": "stdout",
     "output_type": "stream",
     "text": [
      "Epoch [0/30], Loss: 0.03034190\n",
      "Epoch [1/30], Loss: 0.02114680\n",
      "Epoch [2/30], Loss: 0.00308281\n",
      "Epoch [3/30], Loss: 0.00037422\n",
      "Epoch [4/30], Loss: 0.00055709\n",
      "Epoch [5/30], Loss: 0.00195786\n",
      "Epoch [6/30], Loss: 0.00006142\n",
      "Epoch [7/30], Loss: 0.00015321\n",
      "Epoch [8/30], Loss: 0.00008415\n",
      "Epoch [9/30], Loss: 0.00004754\n",
      "Epoch [10/30], Loss: 0.00004157\n",
      "Epoch [11/30], Loss: 0.00002248\n",
      "Epoch [12/30], Loss: 0.00000315\n",
      "Epoch [13/30], Loss: 0.00056532\n",
      "Epoch [14/30], Loss: 0.00004048\n",
      "Epoch [15/30], Loss: 0.00006879\n",
      "Epoch [16/30], Loss: 0.00001287\n",
      "Epoch [17/30], Loss: 0.00016789\n",
      "Epoch [18/30], Loss: 0.00000719\n",
      "Epoch [19/30], Loss: 0.00000754\n",
      "Epoch [20/30], Loss: 0.00000537\n",
      "Epoch [21/30], Loss: 0.00000111\n",
      "Epoch [22/30], Loss: 0.00002647\n",
      "Epoch [23/30], Loss: 0.00000132\n",
      "Epoch [24/30], Loss: 0.00000468\n",
      "Epoch [25/30], Loss: 0.00001248\n",
      "Epoch [26/30], Loss: 0.00006904\n",
      "Epoch [27/30], Loss: 0.00001489\n",
      "Epoch [28/30], Loss: 0.00000493\n",
      "Epoch [29/30], Loss: 0.00003881\n"
     ]
    }
   ],
   "source": [
    "cnn = myCNN()\n",
    "cnn.load_state_dict(torch.load('mycnn.pth', weights_only=True))\n",
    "cnn.eval()\n",
    "\n",
    "mlp = myMLP()\n",
    "\n",
    "n_epochs = 30\n",
    "optim = torch.optim.Adam(mlp.parameters(), lr=0.001)\n",
    "criterion = nn.NLLLoss()\n",
    "\n",
    "fine_tune(cnn, mlp, n_epochs, optim, criterion, trainloader_small)"
   ]
  },
  {
   "cell_type": "code",
   "execution_count": 24,
   "metadata": {},
   "outputs": [],
   "source": [
    "torch.save(mlp.state_dict(), 'mymlp.pth')"
   ]
  },
  {
   "cell_type": "markdown",
   "metadata": {},
   "source": [
    "***\n",
    "### Question 5 [1 point]"
   ]
  },
  {
   "cell_type": "code",
   "execution_count": 13,
   "metadata": {},
   "outputs": [
    {
     "name": "stdout",
     "output_type": "stream",
     "text": [
      " Accuracy for class ’dog’: 95.51%\n",
      " Accuracy for class ’flower’: 96.88%\n"
     ]
    }
   ],
   "source": [
    "def accuracy_fine_tune(myCNN, myMLP, testloader_small):\n",
    "    device = torch.device(\"cuda:0\" if torch.cuda.is_available() else \"cpu\")\n",
    "    myMLP.to(device).eval()\n",
    "    myCNN.to(device).eval()\n",
    "    batch_size = trainloader_small.batch_size\n",
    "    \n",
    "    correct = {n: 0 for n in range(5)}\n",
    "    total = {n: 0 for n in range(5)}\n",
    "\n",
    "    with torch.no_grad():\n",
    "        for inputs, labels in testloader_small:\n",
    "            features = myCNN.forward(inputs.to(device), get_features=True)\n",
    "            features = features.view(features.shape[0], -1)\n",
    "            outputs = myMLP(features)\n",
    "            output_argmax = torch.argmax(outputs, dim=-1).cpu()\n",
    "    \n",
    "            for u in torch.unique(labels):\n",
    "                idxs = labels == output_argmax\n",
    "                correct_for_class = torch.sum(labels[idxs] == output_argmax[idxs]).item()\n",
    "                correct[u.item()] += correct_for_class\n",
    "                total[u.item()] += labels.shape[0]\n",
    "\n",
    "    c = testloader_small.dataset.class_to_idx\n",
    "    # Print the accuracy for each class\n",
    "    for class_name in testloader_small.dataset.classes :\n",
    "        print (f\" Accuracy for class ’{class_name}’: {correct[c[class_name]] / total[c[class_name]] * 100:.2f}%\")\n",
    "\n",
    "mlp = myMLP()\n",
    "mlp.load_state_dict(torch.load('mymlp.pth', weights_only=True))\n",
    "mlp.eval()\n",
    "\n",
    "accuracy_fine_tune(cnn, mlp, testloader_small)"
   ]
  },
  {
   "cell_type": "markdown",
   "metadata": {},
   "source": [
    "# Comments on results"
   ]
  },
  {
   "cell_type": "markdown",
   "metadata": {},
   "source": [
    "***\n",
    "## Part 3: Adversarial attacks [4.5 points]"
   ]
  },
  {
   "cell_type": "markdown",
   "metadata": {},
   "source": [
    "***\n",
    "### Question 1 [1 point]"
   ]
  },
  {
   "cell_type": "code",
   "execution_count": null,
   "metadata": {
    "ExecuteTime": {
     "end_time": "2025-03-17T23:13:45.535415600Z",
     "start_time": "2025-03-17T20:51:47.432694Z"
    }
   },
   "outputs": [],
   "source": [
    "def adversarial(myCNN, myMLP, image, label, epsilon=0.01):\n",
    "    image = image.clone()\n",
    "\n",
    "    nr_steps = 10\n",
    "    mu = 1.0\n",
    "    ...\n",
    "\n",
    "    for i in range(nr_steps):\n",
    "        ...\n",
    "\n",
    "    output = myCNN.forward(image.unsqueeze(0), get_features=True)\n",
    "    output = output.view(output.shape[0], -1)\n",
    "    output = myMLP(output)\n",
    "\n",
    "    p = torch.exp(output)[0][label.item()].item()\n",
    "    image = image.detach()\n",
    "\n",
    "    return image, p"
   ]
  },
  {
   "cell_type": "markdown",
   "metadata": {},
   "source": [
    "***\n",
    "### Question 2 [1 point]"
   ]
  },
  {
   "cell_type": "markdown",
   "metadata": {},
   "source": []
  },
  {
   "cell_type": "markdown",
   "metadata": {},
   "source": [
    "***\n",
    "### Question 3 [0.5 point]"
   ]
  },
  {
   "cell_type": "code",
   "execution_count": null,
   "metadata": {
    "ExecuteTime": {
     "end_time": "2025-03-17T23:13:45.535415600Z",
     "start_time": "2025-03-17T20:51:47.444919Z"
    }
   },
   "outputs": [],
   "source": []
  },
  {
   "cell_type": "markdown",
   "metadata": {},
   "source": [
    "***\n",
    "### Question 4 [0.5 point]"
   ]
  },
  {
   "cell_type": "code",
   "execution_count": null,
   "metadata": {
    "ExecuteTime": {
     "end_time": "2025-03-17T23:13:45.535415600Z",
     "start_time": "2025-03-17T20:51:47.454197Z"
    }
   },
   "outputs": [],
   "source": []
  },
  {
   "cell_type": "markdown",
   "metadata": {},
   "source": [
    "***\n",
    "### Question 5 [1 point]"
   ]
  },
  {
   "cell_type": "code",
   "execution_count": null,
   "metadata": {
    "ExecuteTime": {
     "end_time": "2025-03-17T23:13:45.535415600Z",
     "start_time": "2025-03-17T20:51:47.464093Z"
    }
   },
   "outputs": [],
   "source": []
  },
  {
   "cell_type": "markdown",
   "metadata": {},
   "source": [
    "***\n",
    "### Question 6 [0.5 point]"
   ]
  },
  {
   "cell_type": "markdown",
   "metadata": {},
   "source": []
  }
 ],
 "metadata": {
  "kernelspec": {
   "display_name": "dlenv",
   "language": "python",
   "name": "dlenv"
  },
  "language_info": {
   "codemirror_mode": {
    "name": "ipython",
    "version": 3
   },
   "file_extension": ".py",
   "mimetype": "text/x-python",
   "name": "python",
   "nbconvert_exporter": "python",
   "pygments_lexer": "ipython3",
   "version": "3.12.3"
  }
 },
 "nbformat": 4,
 "nbformat_minor": 4
}
