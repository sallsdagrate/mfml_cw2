{
 "cells": [
  {
   "cell_type": "markdown",
   "metadata": {},
   "source": [
    "# Coursework 1 - Mathematics for Machine Learning"
   ]
  },
  {
   "cell_type": "markdown",
   "metadata": {},
   "source": [
    "## Due: 25/03/2025\n",
    "\n",
    "## CID: 02021144\n",
    "\n",
    "***\n",
    "***"
   ]
  },
  {
   "cell_type": "markdown",
   "metadata": {},
   "source": [
    "## Exercise 1: Quick questions [2 points]"
   ]
  },
  {
   "cell_type": "markdown",
   "metadata": {},
   "source": [
    "#### Question 1:\n",
    "\n",
    "The bias correction terms in the Adam algorithm are useful during the initial iterations of the algorithm. We initialise both first and second moments to 0 and update them as $\\text{moment} = \\beta \\cdot \\text{moment} + (1- \\beta){new \\, moment}$ for $\\beta$ < 1, usually = 0.9 to 0.99. We can see that in the initial stages, the effect of the first few incoming moments are being scaled down by the $(1- \\beta)$ factor. Therefore the bias correction term divides the moments by a factor $(1- \\beta^t)$ to mitigate this and help the algorithm move quicker in the initial stages. As the number of iterations $t$ grows, the bias correction factor converges to 1, thereby becoming insignificant as the algorithm settles."
   ]
  },
  {
   "cell_type": "markdown",
   "metadata": {},
   "source": [
    "#### Question 2:\n",
    "\n",
    "Stochastic Gradient Descent (SGD) is an extension of gradient descent, designed to reduce computational cost when training dataset size is too large for GPU or system memory. It achieves this by approximating the gradient of the loss function with smaller minibatches. This reduces the number of gradient calculations required per iterative descent step and the size of these minibatches is selected such that they fit within the memory requirements of the system."
   ]
  },
  {
   "cell_type": "markdown",
   "metadata": {},
   "source": [
    "#### Question 3:\n",
    "\n",
    "The idea of Kaiming initializtion is to initialise the weights such that input signals are not exponentially magnified or reduced as they are propagated through the network layers. This can be mathematically stated as $Var(y_L) = Var(y_1)$, meaning the variance of the last layer is the same as variance of the first for a newly initialised network.\n",
    "\n",
    "In the simplest case we can look at forward propagation for a feed forward Relu network. Let $y_l = W_lx_l$ for the equation of the $l$'th indexed layer with no bias. $y_l$ is composed of $n_l$ multiplications $w_lx_l$ for row vector $w_l$ and column vector $x_l$. Assume elements of $y_l$, $w_l$ and $x_l$ are independent and distributed symmetrically around 0.\n",
    "$$\n",
    "Var(y_l) = n_l \\, Var(w_lx_l) = n_l \\, \\mathbb{E}[w_l^2]\\mathbb{E}[x_l^2] = n_l \\, Var(w_l)\\mathbb{E}[x_l^2]\n",
    "$$\n",
    "\n",
    "Now we can use the Relu activation to rewrite $x_l$ in terms of $y_{l-1}$:\n",
    "$$\n",
    "\\mathbb{E}[x_l^2] = \\mathbb{E}[Relu(y_{l-1})^2] = \\mathbb{E}[(y_{l-1} \\cdot \\mathbb{1}(y_{l-1} > 0))^2] = \\mathbb{E}[y_{l-1}^2 \\cdot \\mathbb{1}(y_{l-1} > 0)] = \\frac{1}{2} \\mathbb{E}[y_{l-1}^2] = \\frac{1}{2} Var(y_{l-1})\n",
    "$$\n",
    "\n",
    "Now we can substitute this back into the variance equation and expand it from layer 1 to L:\n",
    "$$\n",
    "Var(y_l) = \\frac{1}{2} n_l \\, Var(w_l) \\, Var(y_{l-1}) \\implies Var(y_L) = \\left( \\prod_{l=2}^{L} \\frac{1}{2} n_l \\, Var(w_l) \\right) \\, Var(y_{1})\n",
    "$$\n",
    "\n",
    "Now returning to our original goal, if we want $Var(y_L) = Var(y_1)$, requiring $\\frac{1}{2} n_l \\, Var(w_l) = 1 \\quad \\forall l > 0$ is sufficient. If we let $w_l$ follow a gaussian distribution and $Var(w_l) = \\frac{2}{n_l}$, then $w_l \\sim N(0, \\frac{2}{n_l})$ fulfils this requirement and $\\sigma_l = \\sqrt{\\frac{2}{n_l}}$.\n",
    "\n",
    "Therefore the $\\sqrt{2}$ factor can be traced back to taking the second moment under Relu from layer to layer. The $\\frac{1}{2}$ factor comes out of the fact that $Relu(x)$ is zero for $x < 0$ and all initialization elements are symmetrically distributed around 0."
   ]
  },
  {
   "cell_type": "markdown",
   "metadata": {},
   "source": [
    "#### Question 4:\n",
    "\n",
    "Theorem 4.2 uses the Lipschitz continuity for the proof for Lemma 4.4:\n",
    "$$\n",
    "|h(x) - g(x)| = |g(u_s) - g(x)| \\leq \\rho \\|u_s - x\\|_2 \\leq \\epsilon\n",
    "$$\n",
    "Where $u_s$ is defined as the corner of the side length $\\frac{1}{k}$ half open cube that contains $x$. The $\\rho$ Lipschitz continuity of $g$ lets us perform this bound and bound again with $\\epsilon$ by construction of $k$.\n",
    "\n",
    "This lemma is used when considering the following integral from the proof for Theorem 4.2:\n",
    "$$\n",
    "\\int_{[0, 1)^d} |f(x) - g(x)| \\, dx = \\int_{[0, 1)^d} |f(x) - h(x)| + |h(x) - g(x)| \\, dx \\leq \\int_{[0, 1)^d} |f(x) - h(x)| + \\epsilon\n",
    "$$"
   ]
  },
  {
   "cell_type": "markdown",
   "metadata": {},
   "source": [
    "*** \n",
    "***\n",
    "\n",
    "## Exercise 2: [6 points]"
   ]
  },
  {
   "cell_type": "markdown",
   "metadata": {},
   "source": [
    "\n",
    "### Question 1 [2 points]\n"
   ]
  },
  {
   "cell_type": "markdown",
   "metadata": {},
   "source": [
    "Proving $\\mathcal{F}_{cos,d}$ is a universal approximator:\n",
    "\n",
    "1. Each $f \\in \\mathcal{F}_{cos,d}$ takes the form $\\sum_{i=1}^N a_i \\cos(\\langle c_i, x \\rangle + e_i)$:\n",
    "   - cos is continuous\n",
    "   - a scaled continuous function is continuous\n",
    "   - a finite sum of continuous functions is continuous\n",
    "   - Therefore every $f \\in \\mathcal{F}_{cos,d}$ is continuous\n",
    "3. For every $x$, $\\cos(0^Tx) = 1 \\neq 0$\n",
    "4. For every $x \\neq x'$, let $f(a) = cos((a-x)^T(x'-x)/\\|x'-x\\|_2^2)$, $f(x) = cos(0) \\neq cos(1) = f(x')$. Therefore $\\mathcal{F}_{cos,d}$ separates points.\n",
    "5. Proving $\\mathcal{F}_{cos,d}$ is closed under multiplication and vector space operations:\n",
    "\n",
    "Let $f(x) = \\sum_{i=1}^N a_i \\cos(\\langle c_i, x \\rangle + e_i)$ and $g(x) = \\sum_{j=1}^M b_j \\cos(\\langle d_j, x \\rangle + f_j)$.\n",
    "\n",
    "First under vector space operations:\n",
    "$$\n",
    "\\alpha f(x) + \\beta g(x) \n",
    "= \\sum_{i=1}^N \\alpha a_i \\cos(\\langle c_i, x \\rangle + e_i) + \\sum_{j=1}^M \\beta b_j \\cos(\\langle d_j, x \\rangle + f_j)\n",
    "= \\sum_{k=1}^L\\alpha s_k \\cos(\\langle t_k, x \\rangle + u_k) = h(x) \\in \\mathcal{F}_{cos,d}\n",
    "$$\n",
    "where:\n",
    "- $L = N + M$\n",
    "- $(s_k) = (\\alpha a_1, ...,\\alpha a_N, \\beta b_1, ..., \\beta b_M)$\n",
    "- $(t_k) = (\\alpha c_1, ...,\\alpha c_N, \\beta d_1, ..., \\beta d_M)$\n",
    "- $(u_k) = (\\alpha e_1, ...,\\alpha e_N, \\beta f_1, ..., \\beta f_M)$\n",
    "\n",
    "So $\\mathcal{F}_{cos,d}$ is closed under vector space operations.\n",
    "\n",
    "Now under multiplication:\n",
    "$$\n",
    "f(x) \\cdot g(x)\n",
    "= \\left( \\sum_{i=1}^N a_i \\cos(\\langle c_i, x \\rangle + e_i) \\right) \\left( \\sum_{j=1}^M b_j \\cos(\\langle d_j, x \\rangle + f_j) \\right)\n",
    "= \\sum_{i=1}^N \\sum_{j=1}^M a_i b_j \\cos(\\langle c_i, x \\rangle + e_i) \\cos(\\langle d_j, x \\rangle + f_j)\n",
    "$$\n",
    "\n",
    "Now using $\\cos A \\cos B = \\frac{1}{2}(\\cos(A+B) + \\cos(A-B))$\n",
    "$$\n",
    "= \\sum_{i=1}^N \\sum_{j=1}^M \\frac{a_i b_j}{2} (\\cos(\\langle (c_i + d_j), x \\rangle + (e_i + f_j)) + \\cos(\\langle (c_i - d_j), x \\rangle + (e_i - f_j)))\n",
    "$$\n",
    "$$\n",
    "= \\sum_{i=1}^N \\sum_{j=1}^M k_{ij} (m_{ij}(x) + n_{ij}(x))\n",
    "= \\sum_{i=1}^N \\sum_{j=1}^M k_{ij} p_{ij}(x) \n",
    "= \\sum_{i=1}^N q_{i}(x) = r(x) \n",
    "\\in \\mathcal{F}_{cos,d}\n",
    "$$\n",
    "\n",
    "Where functions $m_{ij}, n_{ij}, p_{ij}, q_i \\in \\mathcal{F}_{cos,d}$ with the following definitions\n",
    "- $k_{ij} = \\frac{a_i b_j}{2}$\n",
    "- $m_{ij}(x) = \\cos(\\langle (c_i + d_j), x \\rangle + (e_i + f_j))$\n",
    "- $n_{ij}(x) = \\cos(\\langle (c_i - d_j), x \\rangle + (e_i - f_j))$\n",
    "- $p_{ij}(x) = m_{ij}(x) + n_{ij}(x)$\n",
    "- $q_{i}(x) = \\sum_{j=1}^M k_{ij} p_{ij}(x)$\n",
    "\n",
    "The last line uses closure under vector operations to reduce the product and show multiplication is also closed.\n",
    "\n",
    "These four conditions are enough to satisfy Theorem 4.7 (Stone-Weierstrass) which concludes that $\\mathcal{F}_{cos,d}$ is a universal approximator."
   ]
  },
  {
   "cell_type": "markdown",
   "metadata": {},
   "source": [
    "***\n",
    "\n",
    "### Question 2 [2 points]"
   ]
  },
  {
   "cell_type": "markdown",
   "metadata": {},
   "source": [
    "The original model had equation:\n",
    "$$\n",
    "f(x) = A_2 \\sigma(A_1 x + b_1) = \\sum_{i=1}^w (A_w)_i\\sigma((A_1)_i x + (b_1)_i)\n",
    "$$\n",
    "\n",
    "We will use a $w$ hidden layer network instead to accumulate this sum. We only need width $d+3$. Define the following:\n",
    "$$\n",
    "M_1 =\n",
    "\\left[\n",
    "\\begin{array}{ccc}\n",
    "\\ddots &  &  \\\\\n",
    "  & I_d &  \\\\\n",
    "  &   & \\ddots \\\\ \\hline\n",
    "\\dots & (A_1)_1 & \\dots \\\\ \\hline\n",
    "\\dots & 0 & \\dots \\\\\n",
    "\\dots & 0 & \\dots\n",
    "\\end{array}\n",
    "\\right]\n",
    "\\qquad\n",
    "M_l =\n",
    "\\left[\n",
    "\\begin{array}{ccc|c|cc}\n",
    "\\ddots &  &  & \\vdots & \\vdots & \\vdots \\\\\n",
    "  & I_d &  & 0 & 0 & 0 \\\\\n",
    "  &   & \\ddots & \\vdots & \\vdots & \\vdots \\\\ \\hline\n",
    "\\dots & (A_1)_l & \\dots & 0 & 0 & 0 \\\\ \\hline\n",
    "\\dots & 0 & \\dots & (A_2)_{l-1} & 1 & -1 \\\\\n",
    "\\dots & 0 & \\dots & -(A_2)_{l-1} & -1 & 1\n",
    "\\end{array}\n",
    "\\right]\n",
    "\\text{ for } 2 \\leq l \\leq w\n",
    "\\qquad\n",
    "B_l = \n",
    "\\left[\n",
    "\\begin{array}{c}\n",
    "\\vdots \\\\\n",
    "0 \\\\\n",
    "\\vdots \\\\ \\hline\n",
    "(b_1)_i \\\\ \\hline\n",
    "0 \\\\\n",
    "0 \\\\\n",
    "\\end{array}\n",
    "\\right]\n",
    "\\text{ for } 1 \\leq l \\leq w\n",
    "\\qquad\n",
    "M_{w+1} =\n",
    "\\left[\n",
    "\\begin{array}{ccc|c|cc}\n",
    "\\dots & 0 & \\dots & (A_2)_w & 1 & -1\n",
    "\\end{array}\n",
    "\\right]\n",
    "$$\n",
    "\n",
    "for\n",
    "- $M_1 \\in \\mathbb{R}^{(d+3) \\times d}$\n",
    "- $M_l \\in \\mathbb{R}^{(d+3) \\times (d+3)}$ for $2 \\leq l \\leq w$\n",
    "- $M_{w+1} \\in \\mathbb{R}^{(d+3) \\times 1}$\n",
    "- $B_1 \\in \\mathbb{R}^{d+3}$ for $1 \\leq l \\leq w$\n",
    "\n",
    "Now define:\n",
    "- $c_i = \\sigma((A_1)_i x + (b_1)_i)$\n",
    "- $s_l = \\sum_{i=1}^l (A_2)_i c_i$\n",
    "\n",
    "It is clear that $s_w = f(x)$. $s_w$ is the variable that we are going to accumulate through the layers.\n",
    "\n",
    "The first layer can take the original input $x$ and we have $x_1 = \\sigma(M_1x + B_1)$.\n",
    "\n",
    "We can see how each layer evaluates:\n",
    "$$\n",
    "\\sigma(M_{l+1}x_l + B_{l+1}) =\n",
    "\\sigma \\left(\n",
    "\\left[ \\begin{array}{ccc|c|cc} \\ddots &  &  & \\vdots & \\vdots & \\vdots \\\\ & I_d &  & 0 & 0 & 0 \\\\ &   & \\ddots & \\vdots & \\vdots & \\vdots \\\\ \\hline \\dots & (A_1)_{l+1} & \\dots & 0 & 0 & 0 \\\\ \\hline \\dots & 0 & \\dots & (A_2)_{l} & 1 & -1 \\\\ \\dots & 0 & \\dots & -(A_2)_{l} & -1 & 1 \\end{array} \\right]\n",
    "\\left[ \\begin{array}{c} \\vdots \\\\ x \\\\ \\vdots \\\\ \\hline c_{l} \\\\ \\hline \\sigma(s_{l-1}) \\\\ \\sigma(-s_{l-1}) \\\\ \\end{array} \\right]\n",
    "+\n",
    "\\left[ \\begin{array}{c} \\vdots \\\\ 0 \\\\ \\vdots \\\\ \\hline (b_1)_{l+1} \\\\ \\hline 0 \\\\ 0 \\\\ \\end{array} \\right]\n",
    "\\right)\n",
    "= \\sigma \\left( \\left[ \\begin{array}{c} \\vdots \\\\ x \\\\ \\vdots \\\\ \\hline (A_1)_{l+1} x + (b_1)_{l+1} \\\\ \\hline (A_2)_{l}c_l + \\sigma(s_{l-1}) - \\sigma(-s_{l-1}) \\\\ -(A_2)_{l}c_l - \\sigma(s_{l-1}) + \\sigma(-s_{l-1}) \\\\ \\end{array} \\right] \\right)\n",
    "= \\sigma \\left( \\left[ \\begin{array}{c} \\vdots \\\\ x \\\\ \\vdots \\\\ \\hline (A_1)_{l+1} x + (b_1)_{l+1} \\\\ \\hline (A_2)_{l}c_l + s_{l-1} \\\\ -((A_2)_{l}c_l + s_{l-1}) \\\\ \\end{array} \\right] \\right)\n",
    "= \\left[ \\begin{array}{c} \\vdots \\\\ x \\\\ \\vdots \\\\ \\hline c_{l+1} \\\\ \\hline \\sigma(s_{l}) \\\\ \\sigma(-s_{l}) \\\\ \\end{array} \\right]\n",
    "= x_{l+1}\n",
    "$$\n",
    "\n",
    "Which uses $\\sigma(\\alpha) - \\sigma(-\\alpha) = \\alpha$ and the fact that $\\sigma(x) = x$ because $x \\in \\mathbb{R}^{[0,1]}$. \n",
    "\n",
    "Using this can observe the state of $x_l$ as it goes through the $w$ hidden layers:\n",
    "$$\n",
    "x_1 = \\left[ \\begin{array}{c} \\vdots \\\\ x \\\\ \\vdots \\\\ \\hline c_1 \\\\ \\hline 0 \\\\ 0 \\\\ \\end{array} \\right]\n",
    "\\qquad\n",
    "x_2 = \\left[ \\begin{array}{c} \\vdots \\\\ x \\\\ \\vdots \\\\ \\hline c_2 \\\\ \\hline \\sigma(s_1) \\\\ \\sigma(-s_1) \\\\ \\end{array} \\right]\n",
    "\\qquad\n",
    "x_3 = \\left[ \\begin{array}{c} \\vdots \\\\ x \\\\ \\vdots \\\\ \\hline c_3 \\\\ \\hline \\sigma(s_2) \\\\ \\sigma(-s_2) \\\\ \\end{array} \\right]\n",
    "\\qquad\n",
    "\\dots\n",
    "\\qquad\n",
    "x_w = \\left[ \\begin{array}{c} \\vdots \\\\ x \\\\ \\vdots \\\\ \\hline c_w \\\\ \\hline \\sigma(s_{w-1}) \\\\ \\sigma(-s_{w-1}) \\\\ \\end{array} \\right]\n",
    "$$\n",
    "\n",
    "It is important to note how we calculate and store the positive and negative of $s_l$. If we stored only $s_l$ it could get wiped out by the Relu. Therefore we store both and one of them will be zero each time as we go through each Relu.\n",
    "\n",
    "Finally the output layer evaluates to:\n",
    "$$\n",
    "M_{w+1}x_w\n",
    "= \\left[ \\begin{array}{ccc|c|cc} \\dots & 0 & \\dots & (A_2)_w & 1 & -1 \\end{array} \\right]\n",
    "\\left[ \\begin{array}{c} \\vdots \\\\ x \\\\ \\vdots \\\\ \\hline c_w \\\\ \\hline \\sigma(s_{w-1}) \\\\ \\sigma(-s_{w-1}) \\\\ \\end{array} \\right]\n",
    "= (A_2)_w c_w + \\sigma(s_{w-1}) - \\sigma(-s_{w-1}) = (A_2)_w c_w + s_{w-1} = s_w = f(x)\n",
    "$$\n",
    "... as desired.\n",
    "\n",
    "This uses width $d+3$. In order to fulfil width $2d+3 > d+3$, we can pad all $M$ and $B$ matricies with zeros and achieve the same result."
   ]
  },
  {
   "cell_type": "markdown",
   "metadata": {},
   "source": [
    "***\n",
    "\n",
    "### Question 3 [2 points]"
   ]
  },
  {
   "cell_type": "markdown",
   "metadata": {},
   "source": [
    "In the plot $a$, the training loss steadily decreases. Starting at just under 0.7, the first 200 epochs loss falls faster than the last 300 but both are relatively slow. After 500 epochs the loss is still relatively high at just above 0.1 and the algorithm evidently has more training left to do. The loss curve is veery smooth with no spikes or oscillations. These factors indicate the learning rate is too small and parameter updates are too conservative, resulting in slow model convergence. To improve this convergence, we would increase the learning rate and let the model take larger parameter update steps as this would help the loss fall faster.\n",
    "\n",
    "In plot $b$, training loss starts high and exhibits large oscillations throughout training. The first 80 epochs show potential convergence but then the loss rises and never meaningfully converges. From epoch 100 onwards, the base loss is around 0.3 with frequent spikes to almost 0.6. This behaviour is indicative of a learning rate that is too high. We can clearly see the model constantly overshoot itself in the loss landscape and jump around without converging smoothly to the minimum. To improve this convergence we would decrease the learning rate so that the model converges more carefully. We might also increase batch size if we can as this would result in less noisy parameter updates.\n",
    "\n",
    "In plot $c$, the loss starts at 0.6 and falls quickly to 0.1 within the first 50 epochs. For the remaining 450 epochs, the loss slowly and consistently decreases with occasional small oscillations. By the end of 500 epochs the model seems to have converged at a near zero loss which is exactly as desired. The model convergence was stable and efficient compared to the other two plots, indicative of a well chosen learning rate. This convergence is already quite good and there is nothing obvious we might to do improve it. Out of the box suggestions might include using a scheduler to scale down learning rate over a number of epochs. We could also use momentum for perhaps even faster and better convergence."
   ]
  },
  {
   "cell_type": "markdown",
   "metadata": {},
   "source": [
    "***\n",
    "***\n",
    "\n",
    "## Exercise 3: Implementation [13 points]"
   ]
  },
  {
   "cell_type": "code",
   "execution_count": 48,
   "metadata": {
    "ExecuteTime": {
     "end_time": "2025-03-22T18:07:16.534996Z",
     "start_time": "2025-03-22T18:07:13.047544Z"
    }
   },
   "outputs": [],
   "source": [
    "import os\n",
    "import numpy as np\n",
    "import torch\n",
    "import torchvision\n",
    "import torchvision.transforms as transforms\n",
    "import matplotlib.pyplot as plt\n",
    "import torch.nn as nn\n",
    "import torch.nn.functional as F\n",
    "import torch.optim as optim\n",
    "\n",
    "import torchsummary"
   ]
  },
  {
   "cell_type": "markdown",
   "metadata": {},
   "source": [
    "## Part 1: Image classification [4 points]"
   ]
  },
  {
   "cell_type": "markdown",
   "metadata": {},
   "source": [
    "***\n",
    "### Question 1 [0.5 point]"
   ]
  },
  {
   "cell_type": "markdown",
   "metadata": {},
   "source": [
    "\n",
    "Download the dataset from\n",
    "https://chaladze.com/l5/img/Linnaeus%205%2032X32.rar\n",
    "and uncompress the .rar dataset to a folder named \"Linnaeus_5_32X32\" in the current directory.\n",
    "This folder contains a subfolder \"Linnaeus 5 32X32\", which contains a test and a train folder with the images of the dataset in 5 different classes: berry, bird, dog, flower, other."
   ]
  },
  {
   "cell_type": "code",
   "execution_count": 49,
   "metadata": {
    "ExecuteTime": {
     "end_time": "2025-03-22T18:10:54.823668Z",
     "start_time": "2025-03-22T18:10:54.781077Z"
    }
   },
   "outputs": [],
   "source": [
    "transform = transforms.Compose(\n",
    "    [transforms.ToTensor(),\n",
    "     transforms.Normalize((0.5, 0.5, 0.5), (0.5, 0.5, 0.5))])\n",
    "\n",
    "batch_size = 128\n",
    "\n",
    "# trainset = torchvision.datasets.ImageFolder(root=\"Linnaeus_5_32X32\\\\Linnaeus 5 32X32\\\\train\", transform=transform)\n",
    "# alternative file paths for Unix systems\n",
    "trainset = torchvision.datasets.ImageFolder(root=\"Linnaeus_5_32X32/Linnaeus 5 32X32/train\", transform=transform)\n",
    "\n",
    "trainloader = torch.utils.data.DataLoader(trainset, batch_size=batch_size, shuffle=True)\n",
    "\n",
    "# testset = torchvision.datasets.ImageFolder(root=\"Linnaeus_5_32X32\\\\Linnaeus 5 32X32\\\\test\", transform=transform)\n",
    "testset = torchvision.datasets.ImageFolder(root=\"Linnaeus_5_32X32/Linnaeus 5 32X32/test\", transform=transform)\n",
    "\n",
    "testloader = torch.utils.data.DataLoader(testset, batch_size=batch_size, shuffle=False,)\n",
    "\n",
    "classes = ('berry', 'bird', 'dog', 'flower', 'other')"
   ]
  },
  {
   "cell_type": "code",
   "execution_count": 50,
   "metadata": {
    "ExecuteTime": {
     "end_time": "2025-03-22T12:35:51.241733Z",
     "start_time": "2025-03-22T12:35:36.763214Z"
    }
   },
   "outputs": [],
   "source": [
    "# dictionary to save one image per class to display\n",
    "to_display = {cls: None for cls in trainset.classes}\n",
    "\n",
    "# reverse of class to idx\n",
    "idx_to_class = {i: c for c, i in trainset.class_to_idx.items()}\n",
    "\n",
    "i = 0\n",
    "# loop through training dataset\n",
    "for img, label in trainset:\n",
    "    # if we find a class that we have not seen before\n",
    "    if to_display[idx_to_class[label]] is None:\n",
    "        # save the image\n",
    "        to_display[idx_to_class[label]] = img\n",
    "        i += 1\n",
    "    # if we have counted all classes, break loop\n",
    "    if i >= len(trainset.classes):\n",
    "        break"
   ]
  },
  {
   "cell_type": "code",
   "execution_count": 51,
   "metadata": {},
   "outputs": [
    {
     "data": {
      "image/png": "[encoded data removed]",
      "text/plain": [
       "<Figure size 1500x300 with 5 Axes>"
      ]
     },
     "metadata": {},
     "output_type": "display_data"
    }
   ],
   "source": [
    "# reverse of transform for displaying\n",
    "def rescale(img):\n",
    "    return (img + 1) / 2\n",
    "\n",
    "# plot images for each class\n",
    "fig, axs = plt.subplots(1, len(trainset.classes), figsize=(15, 3))\n",
    "for i in range(len(trainset.classes)):\n",
    "    cls = trainset.classes[i]\n",
    "    axs[i].imshow(rescale(to_display[cls].numpy()).transpose(1, 2, 0))\n",
    "    axs[i].axis('off')\n",
    "    axs[i].set_title(cls)\n",
    "plt.show()"
   ]
  },
  {
   "cell_type": "markdown",
   "metadata": {},
   "source": [
    "### Question 2 [0.5 point]"
   ]
  },
  {
   "cell_type": "markdown",
   "metadata": {},
   "source": [
    "```\n",
    "transform = transforms.Compose([\n",
    "    transforms.ToTensor(),\n",
    "    transforms.Normalize((0.5, 0.5, 0.5), (0.5, 0.5, 0.5)\n",
    ")]\n",
    "```\n",
    "The above transform has two stages.\n",
    "1. Take an input image (either a PIL image or numpy array of shape (H, W, C)) and converts it into a torch tensor of shape (C, H, W) whilst scaling from [0, 255] to [0, 1]. \n",
    "2. normalise transform applies channel-wise normalisation for each pixel. It computes $x_{norm} = \\frac{x-0.5}{0.5}$. This transforms the pixel ranges from [0, 1] to [-1, 1].\n",
    "\n",
    "Converting to pytorch tensors is needed so that we can carry out pytorch operations e.g. feed through models etc. Scaling and normalising the pixel values to be centred around zero is useful so that all numbers are in a small controlled range and avoid exploding or vanishing values/gradients during training which leads to more efficient convergence."
   ]
  },
  {
   "cell_type": "markdown",
   "metadata": {},
   "source": [
    "***\n",
    "### Question 3 [1 point]"
   ]
  },
  {
   "cell_type": "code",
   "execution_count": 52,
   "metadata": {
    "ExecuteTime": {
     "end_time": "2025-03-22T18:10:19.337759Z",
     "start_time": "2025-03-22T18:10:19.318787Z"
    }
   },
   "outputs": [],
   "source": [
    "class myCNN(nn.Module):\n",
    "    def __init__(self):\n",
    "        super(myCNN, self).__init__()\n",
    "        # feature extraction layers. 6 3x3 convolutional layers with 3 maxpooling layers\n",
    "        self.conv1 = nn.Conv2d(in_channels=3, out_channels=32, kernel_size=3, stride=1, padding=1)\n",
    "        self.conv2 = nn.Conv2d(in_channels=32, out_channels=64, kernel_size=3, stride=1, padding=1)\n",
    "        self.mp1 = nn.MaxPool2d(kernel_size=2, stride=2)\n",
    "        self.conv3 = nn.Conv2d(in_channels=64, out_channels=128, kernel_size=3, stride=1, padding=1)\n",
    "        self.conv4 = nn.Conv2d(in_channels=128, out_channels=128, kernel_size=3, stride=1, padding=1)\n",
    "        self.mp2 = nn.MaxPool2d(kernel_size=2, stride=2)\n",
    "        self.conv5 = nn.Conv2d(in_channels=128, out_channels=256, kernel_size=3, stride=1, padding=1)\n",
    "        self.conv6 = nn.Conv2d(in_channels=256, out_channels=256, kernel_size=3, stride=1, padding=1)\n",
    "        self.mp3 = nn.MaxPool2d(kernel_size=2, stride=2)\n",
    "\n",
    "        # fully connected layers 4096 -> 512 -> 64 -> 5\n",
    "        self.fc1 = nn.Linear(in_features=4096, out_features=512)\n",
    "        self.fc2 = nn.Linear(in_features=512, out_features=64)\n",
    "        self.fc3 = nn.Linear(in_features=64, out_features=5)\n",
    "\n",
    "        # relu activation\n",
    "        self.relu = nn.ReLU()\n",
    "\n",
    "    def forward(self, x):\n",
    "        # cnn\n",
    "        x = self.relu(self.conv1(x))\n",
    "        x = self.relu(self.conv2(x))\n",
    "        x = self.mp1(x)\n",
    "        x = self.relu(self.conv3(x))\n",
    "        x = self.relu(self.conv4(x))\n",
    "        x = self.mp2(x)\n",
    "        x = self.relu(self.conv5(x))\n",
    "        x = self.relu(self.conv6(x))\n",
    "        x = self.mp3(x)\n",
    "\n",
    "        # flatten\n",
    "        x = x.view(-1, 4096)\n",
    "\n",
    "        # fcn\n",
    "        x = self.relu(self.fc1(x))\n",
    "        x = self.relu(self.fc2(x))\n",
    "        x = self.fc3(x)\n",
    "\n",
    "        return x"
   ]
  },
  {
   "cell_type": "markdown",
   "metadata": {},
   "source": [
    "***\n",
    "### Question 4 [0.5 point]"
   ]
  },
  {
   "cell_type": "code",
   "execution_count": 53,
   "metadata": {
    "ExecuteTime": {
     "end_time": "2025-03-22T12:35:57.193430Z",
     "start_time": "2025-03-22T12:35:56.739542Z"
    }
   },
   "outputs": [
    {
     "name": "stdout",
     "output_type": "stream",
     "text": [
      "----------------------------------------------------------------\n",
      "        Layer (type)               Output Shape         Param #\n",
      "================================================================\n",
      "            Conv2d-1           [-1, 32, 32, 32]             896\n",
      "              ReLU-2           [-1, 32, 32, 32]               0\n",
      "            Conv2d-3           [-1, 64, 32, 32]          18,496\n",
      "              ReLU-4           [-1, 64, 32, 32]               0\n",
      "         MaxPool2d-5           [-1, 64, 16, 16]               0\n",
      "            Conv2d-6          [-1, 128, 16, 16]          73,856\n",
      "              ReLU-7          [-1, 128, 16, 16]               0\n",
      "            Conv2d-8          [-1, 128, 16, 16]         147,584\n",
      "              ReLU-9          [-1, 128, 16, 16]               0\n",
      "        MaxPool2d-10            [-1, 128, 8, 8]               0\n",
      "           Conv2d-11            [-1, 256, 8, 8]         295,168\n",
      "             ReLU-12            [-1, 256, 8, 8]               0\n",
      "           Conv2d-13            [-1, 256, 8, 8]         590,080\n",
      "             ReLU-14            [-1, 256, 8, 8]               0\n",
      "        MaxPool2d-15            [-1, 256, 4, 4]               0\n",
      "           Linear-16                  [-1, 512]       2,097,664\n",
      "             ReLU-17                  [-1, 512]               0\n",
      "           Linear-18                   [-1, 64]          32,832\n",
      "             ReLU-19                   [-1, 64]               0\n",
      "           Linear-20                    [-1, 5]             325\n",
      "================================================================\n",
      "Total params: 3,256,901\n",
      "Trainable params: 3,256,901\n",
      "Non-trainable params: 0\n",
      "----------------------------------------------------------------\n",
      "Input size (MB): 0.01\n",
      "Forward/backward pass size (MB): 3.23\n",
      "Params size (MB): 12.42\n",
      "Estimated Total Size (MB): 15.66\n",
      "----------------------------------------------------------------\n"
     ]
    }
   ],
   "source": [
    "torchsummary.summary(myCNN().cuda(), (3, 32, 32))"
   ]
  },
  {
   "cell_type": "markdown",
   "metadata": {},
   "source": [
    "***\n",
    "### Question 5 [0.5 point]"
   ]
  },
  {
   "cell_type": "code",
   "execution_count": 54,
   "metadata": {
    "ExecuteTime": {
     "end_time": "2025-03-22T12:35:59.579766Z",
     "start_time": "2025-03-22T12:35:59.567490Z"
    }
   },
   "outputs": [],
   "source": [
    "def train(myCNN, nr_epochs, optimizer ,criterion, trainloader):\n",
    "\n",
    "    device = torch.device(\"cuda:0\" if torch.cuda.is_available() else \"cpu\")\n",
    "    model.to(device)\n",
    "    criterion.to(device)\n",
    "\n",
    "    # loop for number of epochs\n",
    "    for epoch in range(nr_epochs):\n",
    "        # iterate training loader\n",
    "        for i, (inputs, labels) in enumerate(trainloader):\n",
    "            # zero gradients\n",
    "            optimizer.zero_grad()\n",
    "\n",
    "            # move to device\n",
    "            inputs = inputs.to(device)\n",
    "            labels = labels.to(device)\n",
    "\n",
    "            # process inputs\n",
    "            outputs = myCNN(inputs)\n",
    "            # calculate loss\n",
    "            loss = criterion(outputs, labels)\n",
    "            # backpropagate\n",
    "            loss.backward()\n",
    "\n",
    "            # move back from cpu to save memory\n",
    "            inputs = inputs.cpu()\n",
    "            labels = labels.cpu()\n",
    "\n",
    "            # update parameters\n",
    "            optimizer.step()\n",
    "\n",
    "            # print loss every 10 batches\n",
    "            if i % 10 == 0:\n",
    "                print('Epoch [{}/{}], Batch {}, Loss: {:.4f}'.format(epoch+1, nr_epochs, i, loss.item()))\n",
    "\n",
    "        # print loss value for epoch\n",
    "        print('Epoch [{}/{}], Loss: {:.4f}'.format(epoch+1, nr_epochs, loss.item()))\n",
    "\n",
    "    model.cpu()\n",
    "    criterion.cpu()"
   ]
  },
  {
   "cell_type": "markdown",
   "metadata": {},
   "source": [
    "***\n",
    "### Question 6 [0.5 point]"
   ]
  },
  {
   "cell_type": "code",
   "execution_count": 56,
   "metadata": {
    "ExecuteTime": {
     "end_time": "2025-03-17T23:13:45.523839600Z",
     "start_time": "2025-03-17T21:03:57.267438Z"
    }
   },
   "outputs": [
    {
     "name": "stdout",
     "output_type": "stream",
     "text": [
      "Epoch [1/30], Batch 0, Loss: 1.6104\n",
      "Epoch [1/30], Batch 10, Loss: 1.5885\n",
      "Epoch [1/30], Batch 20, Loss: 1.4848\n",
      "Epoch [1/30], Batch 30, Loss: 1.4984\n",
      "Epoch [1/30], Batch 40, Loss: 1.5971\n",
      "Epoch [1/30], Loss: 1.3963\n",
      "Epoch [2/30], Batch 0, Loss: 1.3635\n",
      "Epoch [2/30], Batch 10, Loss: 1.2608\n",
      "Epoch [2/30], Batch 20, Loss: 1.4093\n",
      "Epoch [2/30], Batch 30, Loss: 1.2786\n",
      "Epoch [2/30], Batch 40, Loss: 1.3494\n",
      "Epoch [2/30], Loss: 1.3435\n",
      "Epoch [3/30], Batch 0, Loss: 1.4636\n",
      "Epoch [3/30], Batch 10, Loss: 1.2279\n",
      "Epoch [3/30], Batch 20, Loss: 1.4029\n",
      "Epoch [3/30], Batch 30, Loss: 1.2253\n",
      "Epoch [3/30], Batch 40, Loss: 1.3887\n",
      "Epoch [3/30], Loss: 1.3486\n",
      "Epoch [4/30], Batch 0, Loss: 1.2624\n",
      "Epoch [4/30], Batch 10, Loss: 1.2270\n",
      "Epoch [4/30], Batch 20, Loss: 1.1967\n",
      "Epoch [4/30], Batch 30, Loss: 1.2429\n",
      "Epoch [4/30], Batch 40, Loss: 1.3287\n",
      "Epoch [4/30], Loss: 1.0711\n",
      "Epoch [5/30], Batch 0, Loss: 1.2093\n",
      "Epoch [5/30], Batch 10, Loss: 1.2811\n",
      "Epoch [5/30], Batch 20, Loss: 1.1558\n",
      "Epoch [5/30], Batch 30, Loss: 1.1300\n",
      "Epoch [5/30], Batch 40, Loss: 1.0230\n",
      "Epoch [5/30], Loss: 1.2649\n",
      "Epoch [6/30], Batch 0, Loss: 1.1608\n",
      "Epoch [6/30], Batch 10, Loss: 1.1982\n",
      "Epoch [6/30], Batch 20, Loss: 0.9946\n",
      "Epoch [6/30], Batch 30, Loss: 1.1139\n",
      "Epoch [6/30], Batch 40, Loss: 1.1360\n",
      "Epoch [6/30], Loss: 0.9658\n",
      "Epoch [7/30], Batch 0, Loss: 1.1148\n",
      "Epoch [7/30], Batch 10, Loss: 1.1415\n",
      "Epoch [7/30], Batch 20, Loss: 1.0412\n",
      "Epoch [7/30], Batch 30, Loss: 1.1279\n",
      "Epoch [7/30], Batch 40, Loss: 1.0300\n",
      "Epoch [7/30], Loss: 0.9744\n",
      "Epoch [8/30], Batch 0, Loss: 0.9403\n",
      "Epoch [8/30], Batch 10, Loss: 1.2410\n",
      "Epoch [8/30], Batch 20, Loss: 1.0067\n",
      "Epoch [8/30], Batch 30, Loss: 0.9899\n",
      "Epoch [8/30], Batch 40, Loss: 0.9728\n",
      "Epoch [8/30], Loss: 0.8006\n",
      "Epoch [9/30], Batch 0, Loss: 0.8760\n",
      "Epoch [9/30], Batch 10, Loss: 0.8450\n",
      "Epoch [9/30], Batch 20, Loss: 0.9461\n",
      "Epoch [9/30], Batch 30, Loss: 0.9989\n",
      "Epoch [9/30], Batch 40, Loss: 1.0023\n",
      "Epoch [9/30], Loss: 0.8546\n",
      "Epoch [10/30], Batch 0, Loss: 0.9071\n",
      "Epoch [10/30], Batch 10, Loss: 0.9037\n",
      "Epoch [10/30], Batch 20, Loss: 0.8177\n",
      "Epoch [10/30], Batch 30, Loss: 0.8784\n",
      "Epoch [10/30], Batch 40, Loss: 0.9268\n",
      "Epoch [10/30], Loss: 0.9546\n",
      "Epoch [11/30], Batch 0, Loss: 0.7242\n",
      "Epoch [11/30], Batch 10, Loss: 0.8562\n",
      "Epoch [11/30], Batch 20, Loss: 0.8415\n",
      "Epoch [11/30], Batch 30, Loss: 0.8323\n",
      "Epoch [11/30], Batch 40, Loss: 0.8533\n",
      "Epoch [11/30], Loss: 0.8052\n",
      "Epoch [12/30], Batch 0, Loss: 0.6700\n",
      "Epoch [12/30], Batch 10, Loss: 0.8112\n",
      "Epoch [12/30], Batch 20, Loss: 0.6655\n",
      "Epoch [12/30], Batch 30, Loss: 0.8683\n",
      "Epoch [12/30], Batch 40, Loss: 0.8581\n",
      "Epoch [12/30], Loss: 0.7848\n",
      "Epoch [13/30], Batch 0, Loss: 0.7017\n",
      "Epoch [13/30], Batch 10, Loss: 0.6736\n",
      "Epoch [13/30], Batch 20, Loss: 0.7306\n",
      "Epoch [13/30], Batch 30, Loss: 0.6469\n",
      "Epoch [13/30], Batch 40, Loss: 0.7874\n",
      "Epoch [13/30], Loss: 0.8311\n",
      "Epoch [14/30], Batch 0, Loss: 0.6763\n",
      "Epoch [14/30], Batch 10, Loss: 0.5722\n",
      "Epoch [14/30], Batch 20, Loss: 0.5816\n",
      "Epoch [14/30], Batch 30, Loss: 0.8320\n",
      "Epoch [14/30], Batch 40, Loss: 0.6259\n",
      "Epoch [14/30], Loss: 0.6025\n",
      "Epoch [15/30], Batch 0, Loss: 0.4880\n",
      "Epoch [15/30], Batch 10, Loss: 0.6059\n",
      "Epoch [15/30], Batch 20, Loss: 0.4782\n",
      "Epoch [15/30], Batch 30, Loss: 0.5912\n",
      "Epoch [15/30], Batch 40, Loss: 0.5827\n",
      "Epoch [15/30], Loss: 0.5522\n",
      "Epoch [16/30], Batch 0, Loss: 0.6288\n",
      "Epoch [16/30], Batch 10, Loss: 0.5146\n",
      "Epoch [16/30], Batch 20, Loss: 0.5764\n",
      "Epoch [16/30], Batch 30, Loss: 0.4704\n",
      "Epoch [16/30], Batch 40, Loss: 0.4405\n",
      "Epoch [16/30], Loss: 0.5901\n",
      "Epoch [17/30], Batch 0, Loss: 0.2882\n",
      "Epoch [17/30], Batch 10, Loss: 0.3530\n",
      "Epoch [17/30], Batch 20, Loss: 0.3759\n",
      "Epoch [17/30], Batch 30, Loss: 0.4019\n",
      "Epoch [17/30], Batch 40, Loss: 0.5246\n",
      "Epoch [17/30], Loss: 0.3508\n",
      "Epoch [18/30], Batch 0, Loss: 0.5073\n",
      "Epoch [18/30], Batch 10, Loss: 0.2897\n",
      "Epoch [18/30], Batch 20, Loss: 0.3602\n",
      "Epoch [18/30], Batch 30, Loss: 0.4568\n",
      "Epoch [18/30], Batch 40, Loss: 0.3827\n",
      "Epoch [18/30], Loss: 0.3533\n",
      "Epoch [19/30], Batch 0, Loss: 0.3395\n",
      "Epoch [19/30], Batch 10, Loss: 0.2978\n",
      "Epoch [19/30], Batch 20, Loss: 0.3354\n",
      "Epoch [19/30], Batch 30, Loss: 0.2634\n",
      "Epoch [19/30], Batch 40, Loss: 0.2918\n",
      "Epoch [19/30], Loss: 0.4328\n",
      "Epoch [20/30], Batch 0, Loss: 0.1949\n",
      "Epoch [20/30], Batch 10, Loss: 0.2031\n",
      "Epoch [20/30], Batch 20, Loss: 0.2605\n",
      "Epoch [20/30], Batch 30, Loss: 0.2538\n",
      "Epoch [20/30], Batch 40, Loss: 0.2670\n",
      "Epoch [20/30], Loss: 0.2940\n",
      "Epoch [21/30], Batch 0, Loss: 0.2137\n",
      "Epoch [21/30], Batch 10, Loss: 0.1680\n",
      "Epoch [21/30], Batch 20, Loss: 0.2109\n",
      "Epoch [21/30], Batch 30, Loss: 0.2078\n",
      "Epoch [21/30], Batch 40, Loss: 0.1531\n",
      "Epoch [21/30], Loss: 0.2056\n",
      "Epoch [22/30], Batch 0, Loss: 0.1266\n",
      "Epoch [22/30], Batch 10, Loss: 0.1441\n",
      "Epoch [22/30], Batch 20, Loss: 0.1047\n",
      "Epoch [22/30], Batch 30, Loss: 0.2418\n",
      "Epoch [22/30], Batch 40, Loss: 0.0821\n",
      "Epoch [22/30], Loss: 0.2002\n",
      "Epoch [23/30], Batch 0, Loss: 0.1356\n",
      "Epoch [23/30], Batch 10, Loss: 0.1338\n",
      "Epoch [23/30], Batch 20, Loss: 0.2225\n",
      "Epoch [23/30], Batch 30, Loss: 0.1611\n",
      "Epoch [23/30], Batch 40, Loss: 0.1898\n",
      "Epoch [23/30], Loss: 0.1907\n",
      "Epoch [24/30], Batch 0, Loss: 0.1180\n",
      "Epoch [24/30], Batch 10, Loss: 0.0839\n",
      "Epoch [24/30], Batch 20, Loss: 0.0979\n",
      "Epoch [24/30], Batch 30, Loss: 0.1881\n",
      "Epoch [24/30], Batch 40, Loss: 0.1320\n",
      "Epoch [24/30], Loss: 0.1631\n",
      "Epoch [25/30], Batch 0, Loss: 0.1158\n",
      "Epoch [25/30], Batch 10, Loss: 0.1133\n",
      "Epoch [25/30], Batch 20, Loss: 0.2945\n",
      "Epoch [25/30], Batch 30, Loss: 0.0997\n",
      "Epoch [25/30], Batch 40, Loss: 0.2237\n",
      "Epoch [25/30], Loss: 0.1735\n",
      "Epoch [26/30], Batch 0, Loss: 0.1474\n",
      "Epoch [26/30], Batch 10, Loss: 0.0940\n",
      "Epoch [26/30], Batch 20, Loss: 0.0859\n",
      "Epoch [26/30], Batch 30, Loss: 0.1262\n",
      "Epoch [26/30], Batch 40, Loss: 0.1695\n",
      "Epoch [26/30], Loss: 0.1231\n",
      "Epoch [27/30], Batch 0, Loss: 0.1158\n",
      "Epoch [27/30], Batch 10, Loss: 0.0656\n",
      "Epoch [27/30], Batch 20, Loss: 0.0612\n",
      "Epoch [27/30], Batch 30, Loss: 0.0800\n",
      "Epoch [27/30], Batch 40, Loss: 0.1099\n",
      "Epoch [27/30], Loss: 0.0508\n",
      "Epoch [28/30], Batch 0, Loss: 0.0406\n",
      "Epoch [28/30], Batch 10, Loss: 0.0510\n",
      "Epoch [28/30], Batch 20, Loss: 0.0405\n",
      "Epoch [28/30], Batch 30, Loss: 0.0190\n",
      "Epoch [28/30], Batch 40, Loss: 0.0166\n",
      "Epoch [28/30], Loss: 0.0493\n",
      "Epoch [29/30], Batch 0, Loss: 0.0260\n",
      "Epoch [29/30], Batch 10, Loss: 0.0164\n",
      "Epoch [29/30], Batch 20, Loss: 0.0151\n",
      "Epoch [29/30], Batch 30, Loss: 0.0490\n",
      "Epoch [29/30], Batch 40, Loss: 0.2350\n",
      "Epoch [29/30], Loss: 0.0854\n",
      "Epoch [30/30], Batch 0, Loss: 0.2877\n",
      "Epoch [30/30], Batch 10, Loss: 0.1304\n",
      "Epoch [30/30], Batch 20, Loss: 0.0554\n",
      "Epoch [30/30], Batch 30, Loss: 0.0912\n",
      "Epoch [30/30], Batch 40, Loss: 0.0887\n",
      "Epoch [30/30], Loss: 0.0867\n"
     ]
    }
   ],
   "source": [
    "model = myCNN()\n",
    "\n",
    "# define everything needed for training\n",
    "n_epochs = 30\n",
    "optim = torch.optim.Adam(model.parameters(), lr=0.001)\n",
    "criterion = nn.CrossEntropyLoss()\n",
    "\n",
    "# execute training\n",
    "train(model, n_epochs, optim, criterion, trainloader)"
   ]
  },
  {
   "cell_type": "code",
   "execution_count": null,
   "metadata": {},
   "outputs": [],
   "source": [
    "torch.save(model.state_dict(), 'mycnn.pth')"
   ]
  },
  {
   "cell_type": "markdown",
   "metadata": {},
   "source": [
    "***\n",
    "### Question 7 [0.5 point]"
   ]
  },
  {
   "cell_type": "code",
   "execution_count": 57,
   "metadata": {
    "ExecuteTime": {
     "end_time": "2025-03-22T18:11:04.611975Z",
     "start_time": "2025-03-22T18:10:59.192006Z"
    }
   },
   "outputs": [
    {
     "name": "stdout",
     "output_type": "stream",
     "text": [
      " Accuracy for class ’berry’: 73.44% \n",
      " Accuracy for class ’bird’: 60.94% \n",
      " Accuracy for class ’dog’: 77.73% \n",
      " Accuracy for class ’flower’: 72.07% \n",
      " Accuracy for class ’other’: 67.03% \n"
     ]
    }
   ],
   "source": [
    "def accuracy(model, testloader):\n",
    "\n",
    "    device = torch.device(\"cuda:0\" if torch.cuda.is_available() else \"cpu\")\n",
    "    \n",
    "    # initialise correct and total counts per class\n",
    "    correct = {n: 0 for n in range(5)}\n",
    "    total = {n: 0 for n in range(5)}\n",
    "\n",
    "    # set model to evaluate mode\n",
    "    model.to(device).eval()\n",
    "\n",
    "    # no gradient context\n",
    "    with torch.no_grad():\n",
    "        # iterate test loader\n",
    "        for inputs, labels in testloader:\n",
    "            # process inputs\n",
    "            output = model(inputs.to(device))\n",
    "            # reduce logits with argmax to find output class\n",
    "            output_argmax = torch.argmax(output, dim=-1).cpu()\n",
    "\n",
    "            # process outputs per class\n",
    "            for u in torch.unique(labels):\n",
    "                # find indexes for current class\n",
    "                idxs = labels == output_argmax\n",
    "                # calculate number of correct classes\n",
    "                correct_for_class = torch.sum(labels[idxs] == output_argmax[idxs]).item()\n",
    "                # update correct count for class\n",
    "                correct[u.item()] += correct_for_class\n",
    "                # update total count for class\n",
    "                total[u.item()] += labels.shape[0]\n",
    "\n",
    "    c = testloader.dataset.class_to_idx\n",
    "    # iterate classes\n",
    "    for class_name in testloader.dataset.classes:\n",
    "        # print accuracy using dictionaries (correct / total)\n",
    "        print (f\" Accuracy for class ’{class_name}’: {correct[c[class_name]] / total[c[class_name]] * 100:.2f}% \")\n",
    "\n",
    "# load state dict (optional)\n",
    "cnn = myCNN()\n",
    "cnn.load_state_dict(torch.load('mycnn.pth', weights_only=True))\n",
    "cnn.eval()\n",
    "\n",
    "# run accuracy function\n",
    "accuracy(cnn, testloader)"
   ]
  },
  {
   "cell_type": "markdown",
   "metadata": {},
   "source": [
    "***\n",
    "## Part 2: Fine-tuning a pretrained model [3.5 points]"
   ]
  },
  {
   "cell_type": "markdown",
   "metadata": {},
   "source": [
    "### Question 1 [0.5 point]"
   ]
  },
  {
   "cell_type": "code",
   "execution_count": 58,
   "metadata": {
    "ExecuteTime": {
     "end_time": "2025-03-22T18:10:28.326320Z",
     "start_time": "2025-03-22T18:10:28.316118Z"
    }
   },
   "outputs": [],
   "source": [
    "# same as first train and test loading but for smaller dataset\n",
    "\n",
    "transform_small = transforms.Compose(\n",
    "    [transforms.ToTensor(),\n",
    "     transforms.Normalize((0.5, 0.5, 0.5), (0.5, 0.5, 0.5))])\n",
    "\n",
    "batch_size_small = 128\n",
    "\n",
    "# trainset_small = torchvision.datasets.ImageFolder(root=\"Linnaeus_5_32X32_small\\\\train\", transform=transform)\n",
    "trainset_small = torchvision.datasets.ImageFolder(root=\"Linnaeus_5_32X32_small/train\", transform=transform_small)\n",
    "\n",
    "trainloader_small = torch.utils.data.DataLoader(trainset_small, batch_size=batch_size_small, shuffle=True)\n",
    "\n",
    "# testset_small = torchvision.datasets.ImageFolder(root=\"Linnaeus_5_32X32_small\\\\test\", transform=transform)\n",
    "testset_small = torchvision.datasets.ImageFolder(root=\"Linnaeus_5_32X32_small/test\", transform=transform_small)\n",
    "\n",
    "testloader_small = torch.utils.data.DataLoader(testset_small, batch_size=batch_size_small, shuffle=False,)"
   ]
  },
  {
   "cell_type": "markdown",
   "metadata": {},
   "source": [
    "***\n",
    "### Question 2 [1 point]"
   ]
  },
  {
   "cell_type": "markdown",
   "metadata": {},
   "source": [
    "LogSoftmax: Converts the raw logits (i.e. the unbounded output of the final linear layer) into log probabilities. This step is critical because:\n",
    "\n",
    "It ensures numerical stability.\n",
    "It provides inputs in the form that NLLLoss expects."
   ]
  },
  {
   "cell_type": "code",
   "execution_count": 59,
   "metadata": {
    "ExecuteTime": {
     "end_time": "2025-03-22T18:10:32.364656Z",
     "start_time": "2025-03-22T18:10:32.360343Z"
    }
   },
   "outputs": [],
   "source": [
    "class myMLP(nn.Module):\n",
    "    def __init__(self):\n",
    "        super(myMLP, self).__init__()\n",
    "        # fully connected layers 5 -> 128 -> 128 -> 2\n",
    "        self.fc1 = nn.Linear(5, 128)\n",
    "        self.fc2 = nn.Linear(128, 128)\n",
    "        self.fc3 = nn.Linear(128, 2)\n",
    "\n",
    "        # relu activation\n",
    "        self.relu = nn.ReLU()\n",
    "\n",
    "        # logsoftmax output\n",
    "        self.logsoftmax = nn.LogSoftmax(dim=-1)\n",
    "\n",
    "    def forward(self, x):\n",
    "        x = self.relu(self.fc1(x))\n",
    "        x = self.relu(self.fc2(x))\n",
    "        x = self.fc3(x)\n",
    "        x = self.logsoftmax(x)\n",
    "        return x"
   ]
  },
  {
   "cell_type": "markdown",
   "metadata": {},
   "source": [
    "#### 1. Determine and justify the number of input nodes for the MLP.\n",
    "\n",
    "We are using the MLP to process the output of the CNN. The CNN has 5 output logits and therefore this must be the number of input nodes to the MLP.\n",
    "\n",
    "#### 2. We are going to use the negative log likelihood loss for training later, with criterion torch.nn.NLLLoss(). Based on the lecture notes and the PyTorch documentation, find and explain what nonlinear function should we use at the output layer of the MLP. Also explain why this loss function is an appropriate choice for this task.\n",
    "\n",
    "Based on the use of NLLLoss, it is logical to use LogSoftmax as our nonlinear function. The pytorch documentation for NLLLoss indicate that it expects log probabilities to compute the negative log likelihood. LogSoftmax converts the raw logits into their log probabilities which is exactly as required. The combination of NLLLoss and LogSoftmax benefits from better numerical stability compared to alternatives such as just Softmax. Numerically it is also equivalent to using CrossEntropyLoss which uses LogSoftmax internally. "
   ]
  },
  {
   "cell_type": "code",
   "execution_count": 60,
   "metadata": {
    "ExecuteTime": {
     "end_time": "2025-03-22T12:36:28.113931Z",
     "start_time": "2025-03-22T12:36:28.088704Z"
    }
   },
   "outputs": [
    {
     "name": "stdout",
     "output_type": "stream",
     "text": [
      "----------------------------------------------------------------\n",
      "        Layer (type)               Output Shape         Param #\n",
      "================================================================\n",
      "            Linear-1                  [-1, 128]             768\n",
      "              ReLU-2                  [-1, 128]               0\n",
      "            Linear-3                  [-1, 128]          16,512\n",
      "              ReLU-4                  [-1, 128]               0\n",
      "            Linear-5                    [-1, 2]             258\n",
      "        LogSoftmax-6                    [-1, 2]               0\n",
      "================================================================\n",
      "Total params: 17,538\n",
      "Trainable params: 17,538\n",
      "Non-trainable params: 0\n",
      "----------------------------------------------------------------\n",
      "Input size (MB): 0.00\n",
      "Forward/backward pass size (MB): 0.00\n",
      "Params size (MB): 0.07\n",
      "Estimated Total Size (MB): 0.07\n",
      "----------------------------------------------------------------\n"
     ]
    }
   ],
   "source": [
    "torchsummary.summary(myMLP().cuda(), input_size=(5,))"
   ]
  },
  {
   "cell_type": "markdown",
   "metadata": {},
   "source": [
    "***\n",
    "### Question 3 [0.5 point]"
   ]
  },
  {
   "cell_type": "code",
   "execution_count": 66,
   "metadata": {
    "ExecuteTime": {
     "end_time": "2025-03-22T18:10:34.879005Z",
     "start_time": "2025-03-22T18:10:34.875169Z"
    }
   },
   "outputs": [],
   "source": [
    "def fine_tune(myCNN, myMLP, nr_epochs, optimizer, criterion, trainloader):\n",
    "\n",
    "    device = torch.device(\"cuda:0\" if torch.cuda.is_available() else \"cpu\")\n",
    "    myMLP.to(device)\n",
    "    myCNN.to(device)\n",
    "    batch_size = trainloader.batch_size\n",
    "    \n",
    "    criterion.to(device)\n",
    "\n",
    "    # freeze cnn\n",
    "    for param in myCNN.parameters():\n",
    "        param.requires_grad = False\n",
    "\n",
    "    # loop for number of epochs\n",
    "    for epoch in range(nr_epochs):\n",
    "        # iterate training loader\n",
    "        for i, (inputs, labels) in enumerate(trainloader):\n",
    "            # zero gradients\n",
    "            optimizer.zero_grad()\n",
    "\n",
    "            # move inputs and labels to device\n",
    "            inputs = inputs.to(device)\n",
    "            labels = labels.to(device)\n",
    "\n",
    "            # get cnn output\n",
    "            features = myCNN(inputs)\n",
    "            # run cnn output through mlp\n",
    "            outputs = myMLP(features)\n",
    "\n",
    "            # calculate loss\n",
    "            loss = criterion(outputs, labels)\n",
    "            # back propagate\n",
    "            loss.backward()\n",
    "\n",
    "            # move back to cpu to save gpu memory\n",
    "            inputs = inputs.cpu()\n",
    "            labels = labels.cpu()\n",
    "\n",
    "            # parameter step\n",
    "            optimizer.step()\n",
    "\n",
    "            # output every 10 batches\n",
    "            if i % 10 == 0:\n",
    "                print('Epoch [{}/{}], Batch {}, Loss: {:.8f}'.format(epoch+1, nr_epochs, i, loss.item()))\n",
    "\n",
    "        # print epoch loss\n",
    "        print('Epoch [{}/{}], Loss: {:.8f}'.format(epoch+1, nr_epochs, loss.item()))\n",
    "\n",
    "    myMLP.cpu()\n",
    "    myCNN.cpu()\n",
    "    criterion.cpu()"
   ]
  },
  {
   "cell_type": "markdown",
   "metadata": {},
   "source": [
    "***\n",
    "### Question 4 [0.5 point]"
   ]
  },
  {
   "cell_type": "code",
   "execution_count": 64,
   "metadata": {
    "ExecuteTime": {
     "end_time": "2025-03-17T23:13:45.535415600Z",
     "start_time": "2025-03-17T20:51:47.420639Z"
    }
   },
   "outputs": [
    {
     "name": "stdout",
     "output_type": "stream",
     "text": [
      "Epoch [1/30], Batch 0, Loss: 0.37649575\n",
      "Epoch [1/30], Batch 10, Loss: 0.00310523\n",
      "Epoch [1/30], Loss: 0.00277196\n",
      "Epoch [2/30], Batch 0, Loss: 0.00062532\n",
      "Epoch [2/30], Batch 10, Loss: 0.00322931\n",
      "Epoch [2/30], Loss: 0.00011573\n",
      "Epoch [3/30], Batch 0, Loss: 0.00342593\n",
      "Epoch [3/30], Batch 10, Loss: 0.00006186\n",
      "Epoch [3/30], Loss: 0.00006818\n",
      "Epoch [4/30], Batch 0, Loss: 0.00031348\n",
      "Epoch [4/30], Batch 10, Loss: 0.00007413\n",
      "Epoch [4/30], Loss: 0.00035683\n",
      "Epoch [5/30], Batch 0, Loss: 0.00007709\n",
      "Epoch [5/30], Batch 10, Loss: 0.00004192\n",
      "Epoch [5/30], Loss: 0.00001211\n",
      "Epoch [6/30], Batch 0, Loss: 0.00001616\n",
      "Epoch [6/30], Batch 10, Loss: 0.00050797\n",
      "Epoch [6/30], Loss: 0.00014711\n",
      "Epoch [7/30], Batch 0, Loss: 0.00002621\n",
      "Epoch [7/30], Batch 10, Loss: 0.00006944\n",
      "Epoch [7/30], Loss: 0.00001321\n",
      "Epoch [8/30], Batch 0, Loss: 0.00150395\n",
      "Epoch [8/30], Batch 10, Loss: 0.00000508\n",
      "Epoch [8/30], Loss: 0.00000380\n",
      "Epoch [9/30], Batch 0, Loss: 0.00003360\n",
      "Epoch [9/30], Batch 10, Loss: 0.00001401\n",
      "Epoch [9/30], Loss: 0.00000090\n",
      "Epoch [10/30], Batch 0, Loss: 0.00108125\n",
      "Epoch [10/30], Batch 10, Loss: 0.00050065\n",
      "Epoch [10/30], Loss: 0.00000271\n",
      "Epoch [11/30], Batch 0, Loss: 0.00002963\n",
      "Epoch [11/30], Batch 10, Loss: 0.00002654\n",
      "Epoch [11/30], Loss: 0.00000077\n",
      "Epoch [12/30], Batch 0, Loss: 0.00000284\n",
      "Epoch [12/30], Batch 10, Loss: 0.00004182\n",
      "Epoch [12/30], Loss: 0.00000137\n",
      "Epoch [13/30], Batch 0, Loss: 0.00001401\n",
      "Epoch [13/30], Batch 10, Loss: 0.00000776\n",
      "Epoch [13/30], Loss: 0.00000154\n",
      "Epoch [14/30], Batch 0, Loss: 0.00022660\n",
      "Epoch [14/30], Batch 10, Loss: 0.00000115\n",
      "Epoch [14/30], Loss: 0.00053489\n",
      "Epoch [15/30], Batch 0, Loss: 0.00000030\n",
      "Epoch [15/30], Batch 10, Loss: 0.00036949\n",
      "Epoch [15/30], Loss: 0.00000087\n",
      "Epoch [16/30], Batch 0, Loss: 0.00032326\n",
      "Epoch [16/30], Batch 10, Loss: 0.00000060\n",
      "Epoch [16/30], Loss: 0.00000032\n",
      "Epoch [17/30], Batch 0, Loss: 0.00040456\n",
      "Epoch [17/30], Batch 10, Loss: 0.00000172\n",
      "Epoch [17/30], Loss: 0.00034858\n",
      "Epoch [18/30], Batch 0, Loss: 0.00000238\n",
      "Epoch [18/30], Batch 10, Loss: 0.00000189\n",
      "Epoch [18/30], Loss: 0.00000018\n",
      "Epoch [19/30], Batch 0, Loss: 0.00000134\n",
      "Epoch [19/30], Batch 10, Loss: 0.00000102\n",
      "Epoch [19/30], Loss: 0.00000464\n",
      "Epoch [20/30], Batch 0, Loss: 0.00000035\n",
      "Epoch [20/30], Batch 10, Loss: 0.00008842\n",
      "Epoch [20/30], Loss: 0.00036431\n",
      "Epoch [21/30], Batch 0, Loss: 0.00000260\n",
      "Epoch [21/30], Batch 10, Loss: 0.00000044\n",
      "Epoch [21/30], Loss: 0.00000011\n",
      "Epoch [22/30], Batch 0, Loss: 0.00000012\n",
      "Epoch [22/30], Batch 10, Loss: 0.00000158\n",
      "Epoch [22/30], Loss: 0.00000103\n",
      "Epoch [23/30], Batch 0, Loss: 0.00000013\n",
      "Epoch [23/30], Batch 10, Loss: 0.00000179\n",
      "Epoch [23/30], Loss: 0.00000108\n",
      "Epoch [24/30], Batch 0, Loss: 0.00000002\n",
      "Epoch [24/30], Batch 10, Loss: 0.00000003\n",
      "Epoch [24/30], Loss: 0.00000003\n",
      "Epoch [25/30], Batch 0, Loss: 0.00000190\n",
      "Epoch [25/30], Batch 10, Loss: 0.00000104\n",
      "Epoch [25/30], Loss: 0.00000017\n",
      "Epoch [26/30], Batch 0, Loss: 0.00000004\n",
      "Epoch [26/30], Batch 10, Loss: 0.00000003\n",
      "Epoch [26/30], Loss: 0.00000118\n",
      "Epoch [27/30], Batch 0, Loss: 0.00000001\n",
      "Epoch [27/30], Batch 10, Loss: 0.00003960\n",
      "Epoch [27/30], Loss: 0.00000178\n",
      "Epoch [28/30], Batch 0, Loss: 0.00000018\n",
      "Epoch [28/30], Batch 10, Loss: 0.00010016\n",
      "Epoch [28/30], Loss: 0.00000052\n",
      "Epoch [29/30], Batch 0, Loss: 0.00000036\n",
      "Epoch [29/30], Batch 10, Loss: 0.00000099\n",
      "Epoch [29/30], Loss: 0.00000010\n",
      "Epoch [30/30], Batch 0, Loss: 0.00000011\n",
      "Epoch [30/30], Batch 10, Loss: 0.00000010\n",
      "Epoch [30/30], Loss: 0.00000000\n"
     ]
    }
   ],
   "source": [
    "# load cnn (optional)\n",
    "cnn = myCNN()\n",
    "cnn.load_state_dict(torch.load('mycnn.pth', weights_only=True))\n",
    "cnn.eval()\n",
    "\n",
    "# initialise mlp\n",
    "mlp = myMLP()\n",
    "\n",
    "# other things needed for training\n",
    "n_epochs = 30\n",
    "optim = torch.optim.Adam(mlp.parameters(), lr=0.001)\n",
    "criterion = nn.NLLLoss()\n",
    "\n",
    "# fine tune\n",
    "fine_tune(cnn, mlp, n_epochs, optim, criterion, trainloader_small)"
   ]
  },
  {
   "cell_type": "code",
   "execution_count": 32,
   "metadata": {},
   "outputs": [],
   "source": [
    "torch.save(mlp.state_dict(), 'mymlp1.pth')"
   ]
  },
  {
   "cell_type": "markdown",
   "metadata": {},
   "source": [
    "***\n",
    "### Question 5 [1 point]"
   ]
  },
  {
   "cell_type": "code",
   "execution_count": 65,
   "metadata": {
    "ExecuteTime": {
     "end_time": "2025-03-22T18:11:10.072808Z",
     "start_time": "2025-03-22T18:11:09.653957Z"
    }
   },
   "outputs": [
    {
     "name": "stdout",
     "output_type": "stream",
     "text": [
      " Accuracy for class ’dog’: 95.70%\n",
      " Accuracy for class ’flower’: 96.39%\n"
     ]
    }
   ],
   "source": [
    "def accuracy_fine_tune(myCNN, myMLP, testloader_small):\n",
    "    device = torch.device(\"cuda:0\" if torch.cuda.is_available() else \"cpu\")\n",
    "    myMLP.to(device).eval()\n",
    "    myCNN.to(device).eval()\n",
    "\n",
    "    # correct and total dictionaries per \n",
    "    correct = {n: 0 for n in range(2)}\n",
    "    total = {n: 0 for n in range(2)}\n",
    "\n",
    "    # to gradient context\n",
    "    with torch.no_grad():\n",
    "        # iterate test loader\n",
    "        for inputs, labels in testloader_small:\n",
    "            # move inputs to device and process through cnn and mlp and exponentiate to get probabilities\n",
    "            features = myCNN(inputs.to(device))\n",
    "            outputs = torch.exp(myMLP(features))\n",
    "\n",
    "            # argmax to get reduce probabilities to output\n",
    "            output_argmax = torch.argmax(outputs, dim=-1).cpu()\n",
    "\n",
    "            # iterate classes\n",
    "            for u in torch.unique(labels):\n",
    "                # get indexes for class\n",
    "                idxs = labels == output_argmax\n",
    "                # calculate number of correct\n",
    "                correct_for_class = torch.sum(labels[idxs] == output_argmax[idxs]).item()\n",
    "                # update correct count\n",
    "                correct[u.item()] += correct_for_class\n",
    "                # update total count\n",
    "                total[u.item()] += labels.shape[0]\n",
    "\n",
    "    c = testloader_small.dataset.class_to_idx\n",
    "    # Print the accuracy for each class\n",
    "    for class_name in testloader_small.dataset.classes :\n",
    "        print (f\" Accuracy for class ’{class_name}’: {correct[c[class_name]] / total[c[class_name]] * 100:.2f}%\")\n",
    "\n",
    "# load both models (optional)\n",
    "cnn = myCNN()\n",
    "cnn.load_state_dict(torch.load('mycnn.pth', weights_only=True))\n",
    "cnn.eval()\n",
    "\n",
    "mlp = myMLP()\n",
    "mlp.load_state_dict(torch.load('mymlp1.pth', weights_only=True))\n",
    "mlp.eval()\n",
    "\n",
    "# accuracy function\n",
    "accuracy_fine_tune(cnn, mlp, testloader_small)"
   ]
  },
  {
   "cell_type": "markdown",
   "metadata": {},
   "source": [
    "#### Comment on the results and compare the accuracy of the fine-tuned model with the accuracy of the CNN model from Part 1.\n",
    "\n",
    "- The CNN achieved class accuracies ranging from 61% to 78%. In contrast, the fine tuned model with the MLP reached above 95% accuracy on both classes it was trained on.\n",
    "\n",
    "- This is not a surprising result as we reduced the complexity of the task my removing 3 of 5 categories, reducing the problem to only a binary classification. This makes it inherently easier for the model to distinguish between the two remaining classes due to simpler decision boundaries. \n",
    "\n",
    "- The original model's fully connected layers were tasked with identifying 5 different classes. By adding more 'post-processing' parameters in the form of the MLP to classify from extracted features, thereby giving the model more capacity to learn and resulting in high accuracies.\n",
    "\n",
    "- It is evident that the CNN on its own struggled to generalise well on its more challenging dataset. The greatly improved accuracies with the fine tuning indicate that the feed forward layers of the CNN were inadequate for the scale of the original task. On the other hand, the feature extraction layers of the CNN were useful in the fine tuning and show that they learnt well.\n",
    "\n",
    "- Training the CNN's feature extraction layers on a broader dataset was probably beneficial as it was exposed to a richer set of features, shapes and objects, therefore feeding the fine-tuned MLP better extracted features than if the CNN was only trained on the two dog and flower classes.\n",
    "\n",
    "- The CNN started at a high loss and steadily decreased over the epochs, showing some variability with occasional increases and decreases. This reflects the complexity of it's original task and show how the feed forward layers int the original model were struggling. In contrast, the loss for the fine tuned MLP drops rapidly to near 0, indicating that the binary classification problem was learned very quickly, meaning a larger feed forward classifier was easily able to capture the differences between only two classes.\n",
    "\n",
    "- We might have has concerns about overfitting given the training loss of the MLP being near zero, however the test accuracies show us that this the model generalised well."
   ]
  },
  {
   "cell_type": "markdown",
   "metadata": {},
   "source": [
    "***\n",
    "## Part 3: Adversarial attacks [4.5 points]"
   ]
  },
  {
   "cell_type": "markdown",
   "metadata": {},
   "source": [
    "***\n",
    "### Question 1 [1 point]"
   ]
  },
  {
   "cell_type": "code",
   "execution_count": 7,
   "metadata": {
    "ExecuteTime": {
     "end_time": "2025-03-22T18:17:01.788869Z",
     "start_time": "2025-03-22T18:17:01.780168Z"
    }
   },
   "outputs": [],
   "source": [
    "def adversarial(myCNN, myMLP, image, label, epsilon=0.01):\n",
    "    \n",
    "    device = torch.device(\"cuda:0\" if torch.cuda.is_available() else \"cpu\")\n",
    "\n",
    "    # move models to device\n",
    "    myCNN.to(device)\n",
    "    myMLP.to(device)\n",
    "\n",
    "    # make a clone of the image and move it to device\n",
    "    image = image.clone().to(device)\n",
    "\n",
    "    # set models to evaluation mode\n",
    "    myCNN.eval()\n",
    "    myMLP.eval()\n",
    "\n",
    "    # NLLLoss function\n",
    "    criterion = nn.NLLLoss()\n",
    "\n",
    "    # hyperparameters\n",
    "    nr_steps = 10\n",
    "    mu = 1.0\n",
    "    alpha = epsilon / nr_steps\n",
    "\n",
    "    # momentum term\n",
    "    g = torch.zeros_like(image, device=device)\n",
    "\n",
    "    # we will use x in the loop. enable gradient tracking\n",
    "    x = image.detach().requires_grad_()\n",
    "    x.to(device)\n",
    "\n",
    "    # format label as tensor\n",
    "    lbl = torch.as_tensor(label, device=device).unsqueeze(0).long().to(device)\n",
    "\n",
    "    # Loop over the number of steps and update the image\n",
    "    for i in range(nr_steps):\n",
    "        # zero gradients\n",
    "        myCNN.zero_grad()\n",
    "        myMLP.zero_grad()\n",
    "\n",
    "        # forward pass\n",
    "        output = myCNN(x.unsqueeze(0))\n",
    "        output = myMLP(output)\n",
    "\n",
    "        # compute loss\n",
    "        loss = criterion(output, lbl)\n",
    "\n",
    "        # backpropagate with respect to x\n",
    "        loss.backward()\n",
    "        grad = x.grad\n",
    "\n",
    "        # update momentum with L1-norm normalization\n",
    "        grad_norm = torch.norm(grad, p=1) + 1e-8  # avoid div-by-zero\n",
    "        g = mu * g + grad / grad_norm\n",
    "\n",
    "        # parameter step with sign of momentum\n",
    "        x = x + alpha * torch.sign(g)\n",
    "\n",
    "        # reset gradients on x\n",
    "        x = x.detach().requires_grad_()\n",
    "\n",
    "    # final adversarial image\n",
    "    adv_image = x.detach()\n",
    "    adv_image_cpu = adv_image.cpu()\n",
    "\n",
    "    # get probability of adversarial image\n",
    "    output = myCNN(adv_image.unsqueeze(0))\n",
    "    output = myMLP(output)\n",
    "    p = torch.exp(output)[0, label].item()\n",
    "\n",
    "    return adv_image_cpu, p"
   ]
  },
  {
   "cell_type": "markdown",
   "metadata": {},
   "source": [
    "\n",
    "### Question 2 [1 point]"
   ]
  },
  {
   "cell_type": "markdown",
   "metadata": {},
   "source": [
    "#### Explain the role of the parameter epsilon in the function and how the algorithm is working.\n",
    "\n",
    "Epsilon ($\\epsilon$) is the 'size of the perturbation'. Intuitively it defines a search space around x, the maximum allowed change under the $L_\\infty$ norm, in which to find an adversarial example. The idea is that within this small $\\epsilon$-radius of our starting image, we can find a similar adversarial image which gives us a different output from the classifier and this adversarial example is at most '$\\epsilon$ far' from the original image. Higher epsilons have higher success rates in finding an adversarial example but at the cost of imperceptibility (i.e. the adverse example will be more different to the original).\n",
    "\n",
    "The algorithm starts by initialising the following variables. $\\alpha = \\frac{\\epsilon}{T}$, where T is the number of iterations, is set as a step size such that even if we travel in the same direction T times, we are at most $\\epsilon$ from the starting image and ensuring we stay within the $\\epsilon-L_\\infty$ ball. $g_0=0$ initialises our momentum variable to 0. And $x^*_0=x$ begins our search for the adversarial image at the original image.\n",
    "\n",
    "The algorithm loops for $0 \\leq t \\leq T-1$:\n",
    "- In each iteration it classifies the current image $x^*_t$ and computes the gradient of the loss function (in our case NLLLoss) with respect to $x^*_t$.\n",
    "- This gradient ($grad$) is then used to update the momentum variable as follows: $g_{t+1} = \\mu \\cdot g_t + \\frac{grad}{\\| grad \\|_1}$. The previous momentum is multiplied by a decay variable $\\mu$ and the newest normalised gradient is added. The decay variable determines how strongly the momentum rememberes gradients from far in the past. By building this momentum, the algorithm can better navigate the loss landscape, i.e. noisy or oscillating gradients, in search of the adversarial example.\n",
    "- Then the sign of the momentum $g_{t+1}$ is used to update the current image as follows: $x^*_{t+1} = x^*_t + \\alpha \\cdot \\text{sign}(g_{t+1})$. The effect of the momentum can be understood with a simple example, e.g. if there is lots of initial momentum in the positive direction and then a small amount in the negative direction, we can see how the momentum would likely still have positive sign. Therefore the algorithm would not react to the small negative gradient and continue the search in the positive direction.\n",
    "\n",
    "After T iterations, the current image is taken as the adversarial image."
   ]
  },
  {
   "cell_type": "markdown",
   "metadata": {},
   "source": [
    "***\n",
    "### Question 3 [0.5 point]"
   ]
  },
  {
   "cell_type": "code",
   "execution_count": 46,
   "metadata": {
    "ExecuteTime": {
     "end_time": "2025-03-22T18:25:29.394806Z",
     "start_time": "2025-03-22T18:25:29.193971Z"
    }
   },
   "outputs": [
    {
     "data": {
      "text/plain": [
       "0.0004589585878420621"
      ]
     },
     "execution_count": 46,
     "metadata": {},
     "output_type": "execute_result"
    }
   ],
   "source": [
    "# pick image from test dataset\n",
    "im, l = testset_small[6]\n",
    "# get adversarial image\n",
    "adv, p = adversarial(cnn, mlp, im, l, epsilon=0.05)\n",
    "p"
   ]
  },
  {
   "cell_type": "code",
   "execution_count": 47,
   "metadata": {},
   "outputs": [
    {
     "data": {
      "image/png": "[encoded data removed]",
      "text/plain": [
       "<Figure size 1000x500 with 2 Axes>"
      ]
     },
     "metadata": {},
     "output_type": "display_data"
    }
   ],
   "source": [
    "# same rescale function but with a clamp\n",
    "def rescale(img):\n",
    "    return (torch.clamp(img, -1, 1) + 1) / 2\n",
    "\n",
    "# reformat images\n",
    "im_ = rescale(im).detach().numpy().transpose(1, 2, 0)\n",
    "adv_ = rescale(adv).detach().numpy().transpose(1, 2, 0)\n",
    "\n",
    "# plot\n",
    "fig, ax = plt.subplots(1, 2, figsize=(10, 5))\n",
    "ax[0].imshow(im_)\n",
    "ax[1].imshow(adv_)\n",
    "ax[0].set_title(\"original\")\n",
    "ax[1].set_title(f\"adversarial p={p:.6f}\")\n",
    "ax[0].axis('off')\n",
    "ax[1].axis('off')\n",
    "plt.show()"
   ]
  },
  {
   "cell_type": "markdown",
   "metadata": {},
   "source": [
    "***\n",
    "### Question 4 [0.5 point]"
   ]
  },
  {
   "cell_type": "code",
   "execution_count": 45,
   "metadata": {},
   "outputs": [
    {
     "name": "stdout",
     "output_type": "stream",
     "text": [
      "Success rate at epsilon=0.05: 0.67708\n"
     ]
    }
   ],
   "source": [
    "def accuracy_adversarial(myCNN, myMLP, testloader_small, epsilon):\n",
    "    total_correct = 0\n",
    "    total_attacked = 0\n",
    "\n",
    "    device = torch.device(\"cuda:0\" if torch.cuda.is_available() else \"cpu\")\n",
    "\n",
    "    myCNN = myCNN.to(device)\n",
    "    myMLP = myMLP.to(device)\n",
    "\n",
    "    # iterate test loader\n",
    "    for data in testloader_small:\n",
    "        images, labels = data\n",
    "        images = images.to(device)\n",
    "        labels = labels.to(device)\n",
    "\n",
    "        # evaluate images\n",
    "        outputs = myCNN.forward(images)\n",
    "        outputs = torch.exp(myMLP(outputs))\n",
    "        output_argmax = torch.argmax(outputs, dim=-1)\n",
    "        # get correct indexes\n",
    "        correct = (output_argmax == labels)\n",
    "\n",
    "        # loop over classified correctly iamges in batch\n",
    "        for im, lbl in zip(images[correct], labels[correct]):\n",
    "            # update correct count\n",
    "            total_correct += 1\n",
    "            # generate an adversarial example\n",
    "            adv, p = adversarial(myCNN, myMLP, im, lbl, epsilon)\n",
    "            # check if the attack was successful\n",
    "            if p < 0.5:\n",
    "                total_attacked += 1\n",
    "\n",
    "    return total_attacked / total_correct\n",
    "\n",
    "# load both models (optional)\n",
    "cnn = myCNN()\n",
    "cnn.load_state_dict(torch.load('mycnn.pth', weights_only=True))\n",
    "cnn.eval()\n",
    "\n",
    "mlp = myMLP()\n",
    "mlp.load_state_dict(torch.load('mymlp1.pth', weights_only=True))\n",
    "mlp.eval()\n",
    "\n",
    "success_rate = accuracy_adversarial(cnn, mlp, testloader_small, 0.05)\n",
    "print(f'Success rate at epsilon=0.05: {success_rate:.5f}')"
   ]
  },
  {
   "cell_type": "markdown",
   "metadata": {},
   "source": [
    "***\n",
    "### Question 5 [1 point]"
   ]
  },
  {
   "cell_type": "code",
   "execution_count": 29,
   "metadata": {
    "ExecuteTime": {
     "end_time": "2025-03-22T18:28:40.326921Z",
     "start_time": "2025-03-22T18:27:20.721128Z"
    }
   },
   "outputs": [],
   "source": [
    "# defined epsilons\n",
    "es = [0.02, 0.04, 0.06, 0.08, 0.1]\n",
    "# run adversarial accuracy for each epsilon\n",
    "adv_success_rates = [accuracy_adversarial(cnn, mlp, testloader_small, e) for e in es]"
   ]
  },
  {
   "cell_type": "code",
   "execution_count": 115,
   "metadata": {},
   "outputs": [
    {
     "data": {
      "image/png": "[encoded data removed]",
      "text/plain": [
       "<Figure size 640x480 with 1 Axes>"
      ]
     },
     "metadata": {},
     "output_type": "display_data"
    },
    {
     "data": {
      "text/plain": [
       "[(0.02, 0.2545454545454545),\n",
       " (0.04, 0.5545454545454546),\n",
       " (0.06, 0.7207792207792207),\n",
       " (0.08, 0.7974025974025974),\n",
       " (0.1, 0.8428571428571429)]"
      ]
     },
     "execution_count": 115,
     "metadata": {},
     "output_type": "execute_result"
    }
   ],
   "source": [
    "# plot success rates over epsilons\n",
    "plt.plot(es, adv_success_rates, marker='X')\n",
    "plt.xlabel('epsilon')\n",
    "plt.ylabel('adversarial success rate')\n",
    "plt.show()\n",
    "\n",
    "# show epsilon and success rate pairs\n",
    "list(zip(es, adv_success_rates))"
   ]
  },
  {
   "cell_type": "markdown",
   "metadata": {},
   "source": [
    "#### comment on results\n",
    "\n",
    "The trend is that the success rate of finding an adversarial image grows with $\\epsilon$. From $\\epsilon=0.02$ to $0.06$, there is quite a sharp increase from 25% to 72%, after which it plateaus to 84% at $\\epsilon=0.1$.\n",
    "\n",
    "This outcome is expected. As explained in the description of the algorithm, $\\epsilon$ defines the $L_\\infty$ ball around the original image (pixel-wise) in which we can search for an adversarial example. Higher epsilon will naturally result in higher success rate due to the fact we have a wider search radius and we can stray further from the original in search of an image that the classifier thinks is different. However, if we compared successful examples at $\\epsilon=1$ and $\\epsilon=0.05$ to the original, the $\\epsilon=0.05$ example would likely be more similar and be considered a better adversarial example as it was able to fool the classifier with less changes to the input.\n",
    "\n",
    "The rapid increase at smaller epsilons indicate that the model is robust at these small epsilons but quickly becomes vulnerable to attack as epsilon grows. The plateauing curve shows diminishing returns past $\\epsilon=0.1$."
   ]
  },
  {
   "cell_type": "markdown",
   "metadata": {},
   "source": [
    "***\n",
    "### Question 6 [0.5 point]"
   ]
  },
  {
   "cell_type": "markdown",
   "metadata": {},
   "source": [
    "#### Comment on the impact of adversarial attacks in real-world applications and discuss possible ways to mitigate them. (Machine learning researchers are usually required to include a broader impact statement in their papers about potential consequences of their work, which is why I’m including this question)\n",
    "\n",
    "Adversarial attacks can have an impact anywhere that machine learning models are deployed in the real world, especially in security and privacy sentitive settings. E.g.: \n",
    "- Autonomous vehicles may not decide to brake at the sight due to the mis-classification of a human or obstacle on the road in the object detection software.\n",
    "- Medical diagnosis software used to scan MRIs and X-rays. A segmentation model can fail to identify a tumor or hairline fracture in an image and thereby resulting in a critital mis-diagnosis of the patient.\n",
    "- Biometric authentication systems must be absolutely robust to small perturbations in input fingerprint/facial scan so as to not allow for unauthorised access.\n",
    "\n",
    "Each of the above examples could have widespread and detremental impact if the adversarial attacks are not properly accounted for in the deployment of these ml models. Therefore it is essential that these developers investivate the robustness of their models.\n",
    "\n",
    "There are many ways of mitigating these adversarial attacks: E.g.:\n",
    "- Training/tuning models on adversarially collected images. This method allows the model to learn from its mistakes and define better decision boundaries between classes, becoming more robust against small perturbations in its input. This method might take time and effort to collect enough examples and then fine tune the model.\n",
    "- Training with augmentation e.g. cropping, resizing, adding small amounts of noise, random colour scale adjustments. Used in the appropriate setting for images, e.g. our example above would have worked, augmentations work as a regularisation and makes the model more robust to small insignificant changes that it might have otherwise been fooled by. This method has close to no additional cost at training time and none at evaluation time. \n",
    "- Ensemble models. This method runs multiple trained versions of the model, usually in parallel, and combines them to create an output. E.g. out of 5 models, 4 classify the image as class 3 and 1 classifies as class 2, the overall vote would lean in favour of class 4. We can easily see how this would make it harder for adversarial examples to fool more than one model. You could also use ensemble models to run confidence checks and evaluating statistical significance of outcomes. However this comes at a large cost of not only storing but also running computation on all of these unique models.\n",
    "- Monte-carlo dropout. Models can be designed with dropout layers. Inference on the input can be run multiple times, each time giving the dropout layers a chance to regularise the model differently. We can therefore use this one model in the same way as the ensemble models described previously."
   ]
  }
 ],
 "metadata": {
  "kernelspec": {
   "display_name": "baseenv",
   "language": "python",
   "name": "baseenv"
  },
  "language_info": {
   "codemirror_mode": {
    "name": "ipython",
    "version": 3
   },
   "file_extension": ".py",
   "mimetype": "text/x-python",
   "name": "python",
   "nbconvert_exporter": "python",
   "pygments_lexer": "ipython3",
   "version": "3.11.2"
  }
 },
 "nbformat": 4,
 "nbformat_minor": 4
}
