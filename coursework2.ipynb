{
 "cells": [
  {
   "cell_type": "markdown",
   "metadata": {},
   "source": [
    "# Coursework 1 - Mathematics for Machine Learning"
   ]
  },
  {
   "cell_type": "markdown",
   "metadata": {},
   "source": [
    "## Due: 25/03/2025\n",
    "\n",
    "## CID: 02021144\n",
    "\n",
    "***\n",
    "***"
   ]
  },
  {
   "cell_type": "markdown",
   "metadata": {},
   "source": [
    "## Exercise 1: Quick questions [2 points]"
   ]
  },
  {
   "cell_type": "markdown",
   "metadata": {},
   "source": [
    "#### Question 1:\n",
    "\n",
    "The bias correction terms in the Adam algorithm are useful during the initial iterations of the algorithm. We initialise both first and second moments to 0 and update them as $\\text{moment} = \\beta \\cdot \\text{moment} + (1- \\beta){new \\, moment}$ for $\\beta$ < 1, usually = 0.9 to 0.99. We can see that in the initial stages, the effect of the first few incoming moments are being scaled down by the $(1- \\beta)$ factor. Therefore the bias correction term divides the moments by a factor $(1- \\beta^t)$ to mitigate this and help the algorithm move quicker in the initial stages. As the number of iterations $t$ grows, the bias correction factor converges to 1, thereby becoming insignificant as the algorithm settles."
   ]
  },
  {
   "cell_type": "markdown",
   "metadata": {},
   "source": [
    "#### Question 2:\n",
    "\n",
    "Stochastic Gradient Descent (SGD) is an extension of gradient descent, designed to reduce computational cost when training dataset size is too large for GPU or system memory. It achieves this by approximating the gradient of the loss function with smaller minibatches. This reduces the number of gradient calculations required per iterative descent step and the size of these minibatches is selected such that they fit within the memory requirements of the system."
   ]
  },
  {
   "cell_type": "markdown",
   "metadata": {},
   "source": [
    "#### Question 3:\n",
    "\n",
    "The idea of Kaiming initializtion is to initialise the weights such that input signals are not exponentially magnified or reduced as they are propagated through the network layers. This can be mathematically stated as $Var(y_L) = Var(y_1)$, meaning the variance of inputs is the same as variance of the output for a newly initialised network.\n",
    "\n",
    "In the simplest case, let $y_l = W_lX_l$ for the equation of a layer with no bias. Assuming the $n_l$ samples in $X_l$ are independent and follow the same underlying distribution. $Var(y_l)$ is the sum of $n_l$ iid RVs:\n",
    "$$\n",
    "Var(y_l) = n_l \\, Var(w_lx_l)\n",
    "$$\n",
    "\n",
    "Assuming $w_l$ and $x_l$ have mean = 0, we can rewrite it as:\n",
    "$$\n",
    "Var(y_l) = n_l \\, Var(w_l)\\mathbb{E}[x_l^2]\n",
    "$$\n",
    "\n",
    "Now we can use the Relu activation to rewrite x_l in terms of y_{l-1} to give us an iterative sequence:\n",
    "$$\n",
    "\\mathbb{E}[x_l^2] = \\mathbb{E}[Relu(y_{l-1})^2] = \\mathbb{E}[(y_{l-1} \\cdot \\mathbb{1}(y_{l-1} > 0))^2] = \\mathbb{E}[y_{l-1}^2 \\cdot \\mathbb{1}(y_{l-1} > 0)] = \\frac{1}{2} \\mathbb{E}[y_{l-1}^2] = \\frac{1}{2} Var(y_{l-1})\n",
    "$$\n",
    "where the last two steps work under the assumption that $y_{l-1}$ is distributed symmetrically around zero.\n",
    "\n",
    "Now we can substitute this back into the variance equation and expand it from layer 1 to L:\n",
    "$$\n",
    "Var(y_l) = \\frac{1}{2} n_l \\, Var(w_l) \\, Var(y_{l-1})\n",
    "$$\n",
    "$$\n",
    "Var(y_L) = \\left( \\prod_{l=2}^{L} \\frac{1}{2} n_l \\, Var(w_l) \\right) \\, Var(y_{1})\n",
    "$$\n",
    "\n",
    "Now returning to our original goal, if we want $Var(y_L) = Var(y_1)$, requiring $\\frac{1}{2} n_l \\, Var(w_l) = 1 \\quad \\forall l > 0$ is sufficient. If we let $w_l$ follow a gaussian distribution and $Var(w_l) = \\frac{2}{n_l}$, then $w_l \\sim N(0, \\frac{2}{n_l})$ fulfils this requirement and $\\sigma_l = \\sqrt{\\frac{2}{n_l}}$. Therefore the $\\sqrt{2}$ factor can be traced back to taking the second moment under Relu from layer to layer where the factor $\\frac{1}{2}$ comes out of the fact that Relu zeros half of the domain."
   ]
  },
  {
   "cell_type": "markdown",
   "metadata": {},
   "source": [
    "#### Question 4:\n",
    "\n",
    "Theorem 4.2 uses the Lipschitz continuity for the proof for Lemma 4.4:\n",
    "$$\n",
    "|h(x) - g(x)| = |g(u_s) - g(x)| \\leq \\rho \\|u_s - x\\|_2 \\leq \\epsilon\n",
    "$$\n",
    "Where $u_s$ is defined as the corner of the half open cube that contains $x$. The $\\rho$ Lipschitz continuity of $g$ lets us perform this bound and bound again with $\\epsilon$ by construction of $k$.\n",
    "\n",
    "This lemma is used when considering the same term in the following integral from the proof for Theorem 4.2:\n",
    "$$\n",
    "\\int_{[0, 1)^d} |f(x) - g(x)| \\, dx = \\int_{[0, 1)^d} |f(x) - h(x)| + |h(x) - g(x)| \\, dx \\leq \\int_{[0, 1)^d} |f(x) - h(x)| + \\epsilon\n",
    "$$"
   ]
  },
  {
   "cell_type": "markdown",
   "metadata": {},
   "source": [
    "*** \n",
    "***\n",
    "\n",
    "## Exercise 2: [6 points]"
   ]
  },
  {
   "cell_type": "markdown",
   "metadata": {},
   "source": [
    "\n",
    "### Question 1 [2 points]\n"
   ]
  },
  {
   "cell_type": "markdown",
   "metadata": {},
   "source": []
  },
  {
   "cell_type": "markdown",
   "metadata": {},
   "source": [
    "***\n",
    "\n",
    "### Question 2 [2 points]"
   ]
  },
  {
   "cell_type": "markdown",
   "metadata": {},
   "source": []
  },
  {
   "cell_type": "markdown",
   "metadata": {},
   "source": [
    "***\n",
    "\n",
    "### Question 3 [2 points]"
   ]
  },
  {
   "cell_type": "markdown",
   "metadata": {},
   "source": []
  },
  {
   "cell_type": "markdown",
   "metadata": {},
   "source": [
    "***\n",
    "***\n",
    "\n",
    "## Exercise 3: Implementation [13 points]"
   ]
  },
  {
   "cell_type": "code",
   "execution_count": 4,
   "metadata": {
    "ExecuteTime": {
     "end_time": "2025-03-22T18:07:16.534996Z",
     "start_time": "2025-03-22T18:07:13.047544Z"
    }
   },
   "outputs": [],
   "source": [
    "import os\n",
    "import numpy as np\n",
    "import torch\n",
    "import torchvision\n",
    "import torchvision.transforms as transforms\n",
    "import matplotlib.pyplot as plt\n",
    "import torch.nn as nn\n",
    "import torch.nn.functional as F\n",
    "import torch.optim as optim\n",
    "\n",
    "import torchsummary"
   ]
  },
  {
   "cell_type": "markdown",
   "metadata": {},
   "source": [
    "## Part 1: Image classification [4 points]"
   ]
  },
  {
   "cell_type": "markdown",
   "metadata": {},
   "source": [
    "***\n",
    "### Question 1 [0.5 point]"
   ]
  },
  {
   "cell_type": "markdown",
   "metadata": {},
   "source": [
    "\n",
    "Download the dataset from\n",
    "https://chaladze.com/l5/img/Linnaeus%205%2032X32.rar\n",
    "and uncompress the .rar dataset to a folder named \"Linnaeus_5_32X32\" in the current directory.\n",
    "This folder contains a subfolder \"Linnaeus 5 32X32\", which contains a test and a train folder with the images of the dataset in 5 different classes: berry, bird, dog, flower, other."
   ]
  },
  {
   "cell_type": "code",
   "execution_count": 6,
   "metadata": {
    "ExecuteTime": {
     "end_time": "2025-03-22T18:10:54.823668Z",
     "start_time": "2025-03-22T18:10:54.781077Z"
    }
   },
   "outputs": [],
   "source": [
    "transform = transforms.Compose(\n",
    "    [transforms.ToTensor(),\n",
    "     transforms.Normalize((0.5, 0.5, 0.5), (0.5, 0.5, 0.5))])\n",
    "\n",
    "batch_size = 128\n",
    "\n",
    "# trainset = torchvision.datasets.ImageFolder(root=\"Linnaeus_5_32X32\\\\Linnaeus 5 32X32\\\\train\", transform=transform)\n",
    "trainset = torchvision.datasets.ImageFolder(root=\"Linnaeus_5_32X32/Linnaeus 5 32X32/train\", transform=transform)\n",
    "\n",
    "trainloader = torch.utils.data.DataLoader(trainset, batch_size=batch_size, shuffle=True)\n",
    "\n",
    "# testset = torchvision.datasets.ImageFolder(root=\"Linnaeus_5_32X32\\\\Linnaeus 5 32X32\\\\test\", transform=transform)\n",
    "testset = torchvision.datasets.ImageFolder(root=\"Linnaeus_5_32X32/Linnaeus 5 32X32/test\", transform=transform)\n",
    "\n",
    "testloader = torch.utils.data.DataLoader(testset, batch_size=batch_size, shuffle=False,)\n",
    "\n",
    "classes = ('berry', 'bird', 'dog', 'flower', 'other')"
   ]
  },
  {
   "cell_type": "code",
   "execution_count": 105,
   "metadata": {
    "ExecuteTime": {
     "end_time": "2025-03-22T12:35:51.241733Z",
     "start_time": "2025-03-22T12:35:36.763214Z"
    }
   },
   "outputs": [],
   "source": [
    "to_display = {cls: None for cls in trainset.classes}\n",
    "idx_to_class = {i: c for c, i in trainset.class_to_idx.items()}\n",
    "i = 0\n",
    "j = 0\n",
    "for img, label in trainset:\n",
    "    if to_display[idx_to_class[label]] is None:\n",
    "        to_display[idx_to_class[label]] = img\n",
    "        i += 1\n",
    "    if i >= len(trainset.classes):\n",
    "        break"
   ]
  },
  {
   "cell_type": "code",
   "execution_count": 107,
   "metadata": {},
   "outputs": [
    {
     "data": {
      "image/png": "[encoded data removed]",
      "text/plain": [
       "<Figure size 1500x300 with 5 Axes>"
      ]
     },
     "metadata": {},
     "output_type": "display_data"
    }
   ],
   "source": [
    "def rescale(img):\n",
    "    return (img + 1) / 2\n",
    "\n",
    "fig, axs = plt.subplots(1, len(trainset.classes), figsize=(15, 3))\n",
    "for i in range(len(trainset.classes)):\n",
    "    cls = trainset.classes[i]\n",
    "    axs[i].imshow(rescale(to_display[cls].numpy()).transpose(1, 2, 0))\n",
    "    axs[i].axis('off')\n",
    "    axs[i].set_title(cls)\n",
    "plt.show()"
   ]
  },
  {
   "cell_type": "markdown",
   "metadata": {},
   "source": [
    "### Question 2 [0.5 point]"
   ]
  },
  {
   "cell_type": "markdown",
   "metadata": {},
   "source": [
    "```\n",
    "transform = transforms.Compose([\n",
    "    transforms.ToTensor(),\n",
    "    transforms.Normalize((0.5, 0.5, 0.5), (0.5, 0.5, 0.5)\n",
    ")]\n",
    "```\n",
    "The above transform has two stages.\n",
    "1. Take an input image (either a PIL image or numpy array of shape (H, W, C)) and converts it into a torch tensor of shape (C, H, W) whilst scaling from [0, 255] to [0, 1]. \n",
    "2. normalise transform applies channel-wise normalisation for each pixel. It computes $x_{norm} = \\frac{x-0.5}{0.5}$. This transforms the pixel ranges from [0, 1] to [-1, 1].\n"
   ]
  },
  {
   "cell_type": "markdown",
   "metadata": {},
   "source": [
    "***\n",
    "### Question 3 [1 point]"
   ]
  },
  {
   "cell_type": "code",
   "execution_count": 8,
   "metadata": {
    "ExecuteTime": {
     "end_time": "2025-03-22T18:10:19.337759Z",
     "start_time": "2025-03-22T18:10:19.318787Z"
    }
   },
   "outputs": [],
   "source": [
    "class myCNN(nn.Module):\n",
    "    def __init__(self):\n",
    "        super(myCNN, self).__init__()\n",
    "        self.conv1 = nn.Conv2d(in_channels=3, out_channels=32, kernel_size=3, stride=1, padding=1)\n",
    "        self.conv2 = nn.Conv2d(in_channels=32, out_channels=64, kernel_size=3, stride=1, padding=1)\n",
    "        self.mp1 = nn.MaxPool2d(kernel_size=2, stride=2)\n",
    "        self.conv3 = nn.Conv2d(in_channels=64, out_channels=128, kernel_size=3, stride=1, padding=1)\n",
    "        self.conv4 = nn.Conv2d(in_channels=128, out_channels=128, kernel_size=3, stride=1, padding=1)\n",
    "        self.mp2 = nn.MaxPool2d(kernel_size=2, stride=2)\n",
    "        self.conv5 = nn.Conv2d(in_channels=128, out_channels=256, kernel_size=3, stride=1, padding=1)\n",
    "        self.conv6 = nn.Conv2d(in_channels=256, out_channels=256, kernel_size=3, stride=1, padding=1)\n",
    "        self.mp3 = nn.MaxPool2d(kernel_size=2, stride=2)\n",
    "\n",
    "        self.fc1 = nn.Linear(in_features=4096, out_features=512)\n",
    "        self.fc2 = nn.Linear(in_features=512, out_features=64)\n",
    "        self.fc3 = nn.Linear(in_features=64, out_features=5)\n",
    "\n",
    "        self.relu = nn.ReLU()\n",
    "\n",
    "    def forward(self, x, get_features=False):\n",
    "        # cnn\n",
    "        x = self.relu(self.conv1(x))\n",
    "        x = self.relu(self.conv2(x))\n",
    "        x = self.mp1(x)\n",
    "        x = self.relu(self.conv3(x))\n",
    "        x = self.relu(self.conv4(x))\n",
    "        x = self.mp2(x)\n",
    "        x = self.relu(self.conv5(x))\n",
    "        x = self.relu(self.conv6(x))\n",
    "        x = self.mp3(x)\n",
    "\n",
    "        if get_features:\n",
    "            return x\n",
    "\n",
    "        # flatten\n",
    "        x = x.view(-1, 4096)\n",
    "\n",
    "        # fcn\n",
    "        x = self.relu(self.fc1(x))\n",
    "        x = self.relu(self.fc2(x))\n",
    "        x = self.fc3(x)\n",
    "\n",
    "        return x"
   ]
  },
  {
   "cell_type": "markdown",
   "metadata": {},
   "source": [
    "***\n",
    "### Question 4 [0.5 point]"
   ]
  },
  {
   "cell_type": "code",
   "execution_count": 9,
   "metadata": {
    "ExecuteTime": {
     "end_time": "2025-03-22T12:35:57.193430Z",
     "start_time": "2025-03-22T12:35:56.739542Z"
    }
   },
   "outputs": [
    {
     "name": "stdout",
     "output_type": "stream",
     "text": [
      "----------------------------------------------------------------\n",
      "        Layer (type)               Output Shape         Param #\n",
      "================================================================\n",
      "            Conv2d-1           [-1, 32, 32, 32]             896\n",
      "              ReLU-2           [-1, 32, 32, 32]               0\n",
      "            Conv2d-3           [-1, 64, 32, 32]          18,496\n",
      "              ReLU-4           [-1, 64, 32, 32]               0\n",
      "         MaxPool2d-5           [-1, 64, 16, 16]               0\n",
      "            Conv2d-6          [-1, 128, 16, 16]          73,856\n",
      "              ReLU-7          [-1, 128, 16, 16]               0\n",
      "            Conv2d-8          [-1, 128, 16, 16]         147,584\n",
      "              ReLU-9          [-1, 128, 16, 16]               0\n",
      "        MaxPool2d-10            [-1, 128, 8, 8]               0\n",
      "           Conv2d-11            [-1, 256, 8, 8]         295,168\n",
      "             ReLU-12            [-1, 256, 8, 8]               0\n",
      "           Conv2d-13            [-1, 256, 8, 8]         590,080\n",
      "             ReLU-14            [-1, 256, 8, 8]               0\n",
      "        MaxPool2d-15            [-1, 256, 4, 4]               0\n",
      "           Linear-16                  [-1, 512]       2,097,664\n",
      "             ReLU-17                  [-1, 512]               0\n",
      "           Linear-18                   [-1, 64]          32,832\n",
      "             ReLU-19                   [-1, 64]               0\n",
      "           Linear-20                    [-1, 5]             325\n",
      "================================================================\n",
      "Total params: 3,256,901\n",
      "Trainable params: 3,256,901\n",
      "Non-trainable params: 0\n",
      "----------------------------------------------------------------\n",
      "Input size (MB): 0.01\n",
      "Forward/backward pass size (MB): 3.23\n",
      "Params size (MB): 12.42\n",
      "Estimated Total Size (MB): 15.66\n",
      "----------------------------------------------------------------\n"
     ]
    }
   ],
   "source": [
    "torchsummary.summary(myCNN().cuda(), (3, 32, 32))"
   ]
  },
  {
   "cell_type": "markdown",
   "metadata": {},
   "source": [
    "***\n",
    "### Question 5 [0.5 point]"
   ]
  },
  {
   "cell_type": "code",
   "execution_count": 10,
   "metadata": {
    "ExecuteTime": {
     "end_time": "2025-03-22T12:35:59.579766Z",
     "start_time": "2025-03-22T12:35:59.567490Z"
    }
   },
   "outputs": [],
   "source": [
    "def train(myCNN, nr_epochs, optimizer ,criterion, trainloader):\n",
    "\n",
    "    device = torch.device(\"cuda:0\" if torch.cuda.is_available() else \"cpu\")\n",
    "    model.to(device)\n",
    "    criterion.to(device)\n",
    "\n",
    "\n",
    "    for epoch in range(nr_epochs):\n",
    "        for inputs, labels in trainloader:\n",
    "            optimizer.zero_grad()\n",
    "\n",
    "            inputs = inputs.to(device)\n",
    "            labels = labels.to(device)\n",
    "\n",
    "            outputs = myCNN(inputs)\n",
    "            loss = criterion(outputs, labels)\n",
    "            loss.backward()\n",
    "\n",
    "            nputs = inputs.cpu()\n",
    "            labels = labels.cpu()\n",
    "\n",
    "            optimizer.step()\n",
    "\n",
    "\n",
    "        if epoch % 1 == 0:\n",
    "            print('Epoch [{}/{}], Loss: {:.4f}'.format(epoch, nr_epochs, loss.item()))\n",
    "\n",
    "    model.cpu()\n",
    "    criterion.cpu()"
   ]
  },
  {
   "cell_type": "markdown",
   "metadata": {},
   "source": [
    "***\n",
    "### Question 6 [0.5 point]"
   ]
  },
  {
   "cell_type": "code",
   "execution_count": 8,
   "metadata": {
    "ExecuteTime": {
     "end_time": "2025-03-17T23:13:45.523839600Z",
     "start_time": "2025-03-17T21:03:57.267438Z"
    }
   },
   "outputs": [
    {
     "name": "stdout",
     "output_type": "stream",
     "text": [
      "Epoch [0/30], Loss: 1.4070\n",
      "Epoch [1/30], Loss: 1.2738\n",
      "Epoch [2/30], Loss: 1.3283\n",
      "Epoch [3/30], Loss: 1.2450\n",
      "Epoch [4/30], Loss: 1.2149\n",
      "Epoch [5/30], Loss: 1.2816\n",
      "Epoch [6/30], Loss: 1.1733\n",
      "Epoch [7/30], Loss: 1.1108\n",
      "Epoch [8/30], Loss: 1.0217\n",
      "Epoch [9/30], Loss: 0.7597\n",
      "Epoch [10/30], Loss: 0.9319\n",
      "Epoch [11/30], Loss: 0.6584\n",
      "Epoch [12/30], Loss: 0.5902\n",
      "Epoch [13/30], Loss: 0.6845\n",
      "Epoch [14/30], Loss: 0.5496\n",
      "Epoch [15/30], Loss: 0.6232\n",
      "Epoch [16/30], Loss: 0.3814\n",
      "Epoch [17/30], Loss: 0.3613\n",
      "Epoch [18/30], Loss: 0.3442\n",
      "Epoch [19/30], Loss: 0.1980\n",
      "Epoch [20/30], Loss: 0.2919\n",
      "Epoch [21/30], Loss: 0.2655\n",
      "Epoch [22/30], Loss: 0.1310\n",
      "Epoch [23/30], Loss: 0.1670\n",
      "Epoch [24/30], Loss: 0.0793\n",
      "Epoch [25/30], Loss: 0.0897\n",
      "Epoch [26/30], Loss: 0.1540\n",
      "Epoch [27/30], Loss: 0.0734\n",
      "Epoch [28/30], Loss: 0.1289\n",
      "Epoch [29/30], Loss: 0.0534\n"
     ]
    }
   ],
   "source": [
    "model = myCNN()\n",
    "\n",
    "n_epochs = 30\n",
    "optim = torch.optim.Adam(model.parameters(), lr=0.001)\n",
    "criterion = nn.CrossEntropyLoss()\n",
    "\n",
    "train(model, n_epochs, optim, criterion, trainloader)"
   ]
  },
  {
   "cell_type": "code",
   "execution_count": null,
   "metadata": {},
   "outputs": [],
   "source": [
    "torch.save(model.state_dict(), 'mycnn.pth')"
   ]
  },
  {
   "cell_type": "markdown",
   "metadata": {},
   "source": [
    "***\n",
    "### Question 7 [0.5 point]"
   ]
  },
  {
   "cell_type": "code",
   "execution_count": 12,
   "metadata": {
    "ExecuteTime": {
     "end_time": "2025-03-22T18:11:04.611975Z",
     "start_time": "2025-03-22T18:10:59.192006Z"
    }
   },
   "outputs": [
    {
     "name": "stdout",
     "output_type": "stream",
     "text": [
      " Accuracy for class ’berry’: 73.44% \n",
      " Accuracy for class ’bird’: 60.94% \n",
      " Accuracy for class ’dog’: 77.73% \n",
      " Accuracy for class ’flower’: 72.07% \n",
      " Accuracy for class ’other’: 67.03% \n"
     ]
    }
   ],
   "source": [
    "def accuracy(model, testloader):\n",
    "\n",
    "    device = torch.device(\"cuda:0\" if torch.cuda.is_available() else \"cpu\")\n",
    "    correct = {n: 0 for n in range(5)}\n",
    "    total = {n: 0 for n in range(5)}\n",
    "    model.to(device).eval()\n",
    "\n",
    "    with torch.no_grad():\n",
    "        for inputs, labels in testloader:\n",
    "            output = model(inputs.to(device))\n",
    "            output_argmax = torch.argmax(output, dim=-1).cpu()\n",
    "    \n",
    "            for u in torch.unique(labels):\n",
    "                idxs = labels == output_argmax\n",
    "                correct_for_class = torch.sum(labels[idxs] == output_argmax[idxs]).item()\n",
    "                correct[u.item()] += correct_for_class\n",
    "                total[u.item()] += labels.shape[0]\n",
    "\n",
    "    c = testloader.dataset.class_to_idx\n",
    "    for class_name in testloader.dataset.classes :\n",
    "        print (f\" Accuracy for class ’{class_name}’: {correct[c[class_name]] / total[c[class_name]] * 100:.2f}% \")\n",
    "\n",
    "cnn = myCNN()\n",
    "cnn.load_state_dict(torch.load('mycnn.pth', weights_only=True))\n",
    "cnn.eval()\n",
    "\n",
    "accuracy(cnn, testloader)"
   ]
  },
  {
   "cell_type": "markdown",
   "metadata": {},
   "source": [
    "***\n",
    "## Part 2: Fine-tuning a pretrained model [3.5 points]"
   ]
  },
  {
   "cell_type": "markdown",
   "metadata": {},
   "source": [
    "### Question 1 [0.5 point]"
   ]
  },
  {
   "cell_type": "code",
   "execution_count": 14,
   "metadata": {
    "ExecuteTime": {
     "end_time": "2025-03-22T18:10:28.326320Z",
     "start_time": "2025-03-22T18:10:28.316118Z"
    }
   },
   "outputs": [],
   "source": [
    "transform_small = transforms.Compose(\n",
    "    [transforms.ToTensor(),\n",
    "     transforms.Normalize((0.5, 0.5, 0.5), (0.5, 0.5, 0.5))])\n",
    "\n",
    "batch_size_small = 128\n",
    "\n",
    "# trainset_small = torchvision.datasets.ImageFolder(root=\"Linnaeus_5_32X32_small\\\\train\", transform=transform)\n",
    "trainset_small = torchvision.datasets.ImageFolder(root=\"Linnaeus_5_32X32_small/train\", transform=transform_small)\n",
    "\n",
    "trainloader_small = torch.utils.data.DataLoader(trainset_small, batch_size=batch_size_small, shuffle=True)\n",
    "\n",
    "# testset_small = torchvision.datasets.ImageFolder(root=\"Linnaeus_5_32X32_small\\\\test\", transform=transform)\n",
    "testset_small = torchvision.datasets.ImageFolder(root=\"Linnaeus_5_32X32_small/test\", transform=transform_small)\n",
    "\n",
    "testloader_small = torch.utils.data.DataLoader(testset_small, batch_size=batch_size_small, shuffle=False,)"
   ]
  },
  {
   "cell_type": "markdown",
   "metadata": {},
   "source": [
    "***\n",
    "### Question 2 [1 point]"
   ]
  },
  {
   "cell_type": "markdown",
   "metadata": {},
   "source": [
    "LogSoftmax: Converts the raw logits (i.e. the unbounded output of the final linear layer) into log probabilities. This step is critical because:\n",
    "\n",
    "It ensures numerical stability.\n",
    "It provides inputs in the form that NLLLoss expects."
   ]
  },
  {
   "cell_type": "code",
   "execution_count": 16,
   "metadata": {
    "ExecuteTime": {
     "end_time": "2025-03-22T18:10:32.364656Z",
     "start_time": "2025-03-22T18:10:32.360343Z"
    }
   },
   "outputs": [],
   "source": [
    "class myMLP(nn.Module):\n",
    "    def __init__(self):\n",
    "        super(myMLP, self).__init__()\n",
    "        self.fc1 = nn.Linear(4096, 128)\n",
    "        self.fc2 = nn.Linear(128, 128)\n",
    "        self.fc3 = nn.Linear(128, 2)\n",
    "        \n",
    "        self.relu = nn.ReLU()\n",
    "        \n",
    "        self.act = nn.LogSoftmax(dim=-1)\n",
    "\n",
    "    def forward(self, x):\n",
    "        x = self.relu(self.fc1(x))\n",
    "        x = self.relu(self.fc2(x))\n",
    "        x = self.fc3(x)\n",
    "        \n",
    "        x = self.act(x)\n",
    "        return x"
   ]
  },
  {
   "cell_type": "markdown",
   "metadata": {},
   "source": [
    "#### 1. Determine and justify the number of input nodes for the MLP.\n",
    "\n",
    "We are using the MLP to process the extracted features from the CNN. This is taken as the output from the convolutional and maxpool layers. Therefore the input of the MLP must match a flattened output from the CNN's feature extraction layers. With a 32x32 image input, the CNN's mp3 layer outputs a tensor of shape 4x4 with 256 channels. 4\\*4\\*256 = 4096. Therefore we need 4096 input nodes in the MLP. \n",
    "\n",
    "#### 2. We are going to use the negative log likelihood loss for training later, with criterion torch.nn.NLLLoss(). Based on the lecture notes and the PyTorch documentation, find and explain what nonlinear function should we use at the output layer of the MLP. Also explain why this loss function is an appropriate choice for this task.\n",
    "\n",
    "Based on the use of NLLLoss, it is logical to use LogSoftmax as our nonlinear function. The pytorch documentation for NLLLoss indicate that it expects log probabilities to compute the negative log likelihood. LogSoftmax converts the raw logits into their log probabilities which is exactly as required. The combination of NLLLoss and LogSoftmax benefits from better numerical stability compared to alternatives such as just Softmax. Numerically it is also equivalent to using CrossEntropyLoss which uses LogSoftmax internally. "
   ]
  },
  {
   "cell_type": "code",
   "execution_count": 15,
   "metadata": {
    "ExecuteTime": {
     "end_time": "2025-03-22T12:36:28.113931Z",
     "start_time": "2025-03-22T12:36:28.088704Z"
    }
   },
   "outputs": [
    {
     "name": "stdout",
     "output_type": "stream",
     "text": [
      "----------------------------------------------------------------\n",
      "        Layer (type)               Output Shape         Param #\n",
      "================================================================\n",
      "            Linear-1                  [-1, 128]         524,416\n",
      "              ReLU-2                  [-1, 128]               0\n",
      "            Linear-3                  [-1, 128]          16,512\n",
      "              ReLU-4                  [-1, 128]               0\n",
      "            Linear-5                    [-1, 2]             258\n",
      "        LogSoftmax-6                    [-1, 2]               0\n",
      "================================================================\n",
      "Total params: 541,186\n",
      "Trainable params: 541,186\n",
      "Non-trainable params: 0\n",
      "----------------------------------------------------------------\n",
      "Input size (MB): 0.02\n",
      "Forward/backward pass size (MB): 0.00\n",
      "Params size (MB): 2.06\n",
      "Estimated Total Size (MB): 2.08\n",
      "----------------------------------------------------------------\n"
     ]
    }
   ],
   "source": [
    "torchsummary.summary(myMLP().cuda(), input_size=(4096,))"
   ]
  },
  {
   "cell_type": "markdown",
   "metadata": {},
   "source": [
    "***\n",
    "### Question 3 [0.5 point]"
   ]
  },
  {
   "cell_type": "code",
   "execution_count": 18,
   "metadata": {
    "ExecuteTime": {
     "end_time": "2025-03-22T18:10:34.879005Z",
     "start_time": "2025-03-22T18:10:34.875169Z"
    }
   },
   "outputs": [],
   "source": [
    "def fine_tune(myCNN, myMLP, nr_epochs, optimizer, criterion, trainloader):\n",
    "\n",
    "    device = torch.device(\"cuda:0\" if torch.cuda.is_available() else \"cpu\")\n",
    "    myMLP.to(device)\n",
    "    myCNN.to(device)\n",
    "    batch_size = trainloader.batch_size\n",
    "    \n",
    "    criterion.to(device)\n",
    "\n",
    "    # freeze cnn\n",
    "    for param in myCNN.parameters():\n",
    "        param.requires_grad = False\n",
    "\n",
    "    for epoch in range(nr_epochs):\n",
    "        for inputs, labels in trainloader:\n",
    "            optimizer.zero_grad()\n",
    "\n",
    "            inputs = inputs.to(device)\n",
    "            labels = labels.to(device)\n",
    "            \n",
    "            features = myCNN.forward(inputs, get_features=True)\n",
    "            features = features.view(features.shape[0], -1)\n",
    "            outputs = myMLP(features)\n",
    "            \n",
    "            loss = criterion(outputs, labels)\n",
    "            loss.backward()\n",
    "\n",
    "            inputs = inputs.cpu()\n",
    "            labels = labels.cpu()\n",
    "\n",
    "            optimizer.step()\n",
    "\n",
    "\n",
    "        if epoch % 1 == 0:\n",
    "            print('Epoch [{}/{}], Loss: {:.8f}'.format(epoch, nr_epochs, loss.item()))\n",
    "\n",
    "    myMLP.cpu()\n",
    "    myCNN.cpu()\n",
    "    criterion.cpu()"
   ]
  },
  {
   "cell_type": "markdown",
   "metadata": {},
   "source": [
    "***\n",
    "### Question 4 [0.5 point]"
   ]
  },
  {
   "cell_type": "code",
   "execution_count": 23,
   "metadata": {
    "ExecuteTime": {
     "end_time": "2025-03-17T23:13:45.535415600Z",
     "start_time": "2025-03-17T20:51:47.420639Z"
    }
   },
   "outputs": [
    {
     "name": "stdout",
     "output_type": "stream",
     "text": [
      "Epoch [0/30], Loss: 0.03034190\n",
      "Epoch [1/30], Loss: 0.02114680\n",
      "Epoch [2/30], Loss: 0.00308281\n",
      "Epoch [3/30], Loss: 0.00037422\n",
      "Epoch [4/30], Loss: 0.00055709\n",
      "Epoch [5/30], Loss: 0.00195786\n",
      "Epoch [6/30], Loss: 0.00006142\n",
      "Epoch [7/30], Loss: 0.00015321\n",
      "Epoch [8/30], Loss: 0.00008415\n",
      "Epoch [9/30], Loss: 0.00004754\n",
      "Epoch [10/30], Loss: 0.00004157\n",
      "Epoch [11/30], Loss: 0.00002248\n",
      "Epoch [12/30], Loss: 0.00000315\n",
      "Epoch [13/30], Loss: 0.00056532\n",
      "Epoch [14/30], Loss: 0.00004048\n",
      "Epoch [15/30], Loss: 0.00006879\n",
      "Epoch [16/30], Loss: 0.00001287\n",
      "Epoch [17/30], Loss: 0.00016789\n",
      "Epoch [18/30], Loss: 0.00000719\n",
      "Epoch [19/30], Loss: 0.00000754\n",
      "Epoch [20/30], Loss: 0.00000537\n",
      "Epoch [21/30], Loss: 0.00000111\n",
      "Epoch [22/30], Loss: 0.00002647\n",
      "Epoch [23/30], Loss: 0.00000132\n",
      "Epoch [24/30], Loss: 0.00000468\n",
      "Epoch [25/30], Loss: 0.00001248\n",
      "Epoch [26/30], Loss: 0.00006904\n",
      "Epoch [27/30], Loss: 0.00001489\n",
      "Epoch [28/30], Loss: 0.00000493\n",
      "Epoch [29/30], Loss: 0.00003881\n"
     ]
    }
   ],
   "source": [
    "cnn = myCNN()\n",
    "cnn.load_state_dict(torch.load('mycnn.pth', weights_only=True))\n",
    "cnn.eval()\n",
    "\n",
    "mlp = myMLP()\n",
    "\n",
    "n_epochs = 30\n",
    "optim = torch.optim.Adam(mlp.parameters(), lr=0.001)\n",
    "criterion = nn.NLLLoss()\n",
    "\n",
    "fine_tune(cnn, mlp, n_epochs, optim, criterion, trainloader_small)"
   ]
  },
  {
   "cell_type": "code",
   "execution_count": 24,
   "metadata": {},
   "outputs": [],
   "source": [
    "torch.save(mlp.state_dict(), 'mymlp.pth')"
   ]
  },
  {
   "cell_type": "markdown",
   "metadata": {},
   "source": [
    "***\n",
    "### Question 5 [1 point]"
   ]
  },
  {
   "cell_type": "code",
   "execution_count": 20,
   "metadata": {
    "ExecuteTime": {
     "end_time": "2025-03-22T18:11:10.072808Z",
     "start_time": "2025-03-22T18:11:09.653957Z"
    }
   },
   "outputs": [
    {
     "name": "stdout",
     "output_type": "stream",
     "text": [
      " Accuracy for class ’dog’: 95.51%\n",
      " Accuracy for class ’flower’: 96.88%\n"
     ]
    }
   ],
   "source": [
    "def accuracy_fine_tune(myCNN, myMLP, testloader_small):\n",
    "    device = torch.device(\"cuda:0\" if torch.cuda.is_available() else \"cpu\")\n",
    "    myMLP.to(device).eval()\n",
    "    myCNN.to(device).eval()\n",
    "    batch_size = trainloader_small.batch_size\n",
    "    \n",
    "    correct = {n: 0 for n in range(5)}\n",
    "    total = {n: 0 for n in range(5)}\n",
    "\n",
    "    with torch.no_grad():\n",
    "        for inputs, labels in testloader_small:\n",
    "            features = myCNN.forward(inputs.to(device), get_features=True)\n",
    "            features = features.view(features.shape[0], -1)\n",
    "            outputs = torch.exp(myMLP(features))\n",
    "            output_argmax = torch.argmax(outputs, dim=-1).cpu()\n",
    "    \n",
    "            for u in torch.unique(labels):\n",
    "                idxs = labels == output_argmax\n",
    "                correct_for_class = torch.sum(labels[idxs] == output_argmax[idxs]).item()\n",
    "                correct[u.item()] += correct_for_class\n",
    "                total[u.item()] += labels.shape[0]\n",
    "\n",
    "    c = testloader_small.dataset.class_to_idx\n",
    "    # Print the accuracy for each class\n",
    "    for class_name in testloader_small.dataset.classes :\n",
    "        print (f\" Accuracy for class ’{class_name}’: {correct[c[class_name]] / total[c[class_name]] * 100:.2f}%\")\n",
    "\n",
    "mlp = myMLP()\n",
    "mlp.load_state_dict(torch.load('mymlp.pth', weights_only=True))\n",
    "mlp.eval()\n",
    "\n",
    "accuracy_fine_tune(cnn, mlp, testloader_small)"
   ]
  },
  {
   "cell_type": "markdown",
   "metadata": {},
   "source": [
    "#### Comment on the results and compare the accuracy of the fine-tuned model with the accuracy of the CNN model from Part 1.\n",
    "\n",
    "- The CNN achieved class accuracies ranging from 61% to 78%. In contrast, the fine tuned model with the MLP reached above 95% accuracy on both classes it was trained on.\n",
    "\n",
    "- This is not a surprising result as we reduced the complexity of the task my removing 3 of 5 categories, reducing the problem to only a binary classification. This makes it inherently easier for the model to distinguish between the two remaining classes due to simpler decision boundaries. \n",
    "\n",
    "- The original model's fully connected layers were tasked with identifying 5 different classes. By adding more 'post-processing' parameters in the form of the MLP to classify from extracted features, thereby giving the model more capacity to learn and resulting in high accuracies.\n",
    "\n",
    "- It is evident that the CNN on its own struggled to generalise well on its more challenging dataset. The greatly improved accuracies with the fine tuning indicate that the feed forward layers of the CNN were inadequate for the scale of the original task. On the other hand, the feature extraction layers of the CNN were useful in the fine tuning and show that they learnt well.\n",
    "\n",
    "- Training the CNN's feature extraction layers on a broader dataset was probably beneficial as it was exposed to a richer set of features, shapes and objects, therefore feeding the fine-tuned MLP better extracted features than if the CNN was only trained on the two dog and flower classes.\n",
    "\n",
    "- The CNN started at a high loss and steadily decreased over the epochs, showing some variability with occasional increases and decreases. This reflects the complexity of it's original task and show how the feed forward layers int the original model were struggling. In contrast, the loss for the fine tuned MLP drops rapidly to near 0, indicating that the binary classification problem was learned very quickly, meaning a larger feed forward classifier was easily able to capture the differences between only two classes.\n",
    "\n",
    "- We might have has concerns about overfitting given the training loss of the MLP being near zero, however the test accuracies show us that this the model generalised well."
   ]
  },
  {
   "cell_type": "markdown",
   "metadata": {},
   "source": [
    "***\n",
    "## Part 3: Adversarial attacks [4.5 points]"
   ]
  },
  {
   "cell_type": "markdown",
   "metadata": {},
   "source": [
    "***\n",
    "### Question 1 [1 point]"
   ]
  },
  {
   "cell_type": "code",
   "execution_count": 109,
   "metadata": {
    "ExecuteTime": {
     "end_time": "2025-03-22T18:17:01.788869Z",
     "start_time": "2025-03-22T18:17:01.780168Z"
    }
   },
   "outputs": [],
   "source": [
    "def adversarial(myCNN, myMLP, image, label, epsilon=0.01):\n",
    "    # Select device\n",
    "    device = torch.device(\"cuda:0\" if torch.cuda.is_available() else \"cpu\")\n",
    "\n",
    "    # Move models to device\n",
    "    myCNN.to(device)\n",
    "    myMLP.to(device)\n",
    "\n",
    "    # Make a clone of the image and move it to device\n",
    "    image = image.clone().to(device)\n",
    "\n",
    "    # Set models to evaluation mode\n",
    "    myCNN.eval()\n",
    "    myMLP.eval()\n",
    "\n",
    "    # NLLLoss matches your MLP's LogSoftmax output\n",
    "    criterion = nn.NLLLoss()\n",
    "\n",
    "    nr_steps = 10\n",
    "    mu = 1.0\n",
    "    alpha = epsilon / nr_steps\n",
    "\n",
    "    # Momentum term (same shape as image, on device)\n",
    "    g = torch.zeros_like(image, device=device)\n",
    "\n",
    "    # The input that will be perturbed (enable gradient tracking)\n",
    "    x = image.detach().requires_grad_()\n",
    "    x.to(device)\n",
    "\n",
    "    # Label tensor on the device\n",
    "    # lbl = torch.tensor(label, device=device).unsqueeze(0).long()\n",
    "    lbl = torch.as_tensor(label, device=device).unsqueeze(0).long().to(device)\n",
    "\n",
    "    for i in range(nr_steps):\n",
    "        # Zero the model gradients\n",
    "        myCNN.zero_grad()\n",
    "        myMLP.zero_grad()\n",
    "\n",
    "        # Forward pass\n",
    "        output = myCNN(x.unsqueeze(0), get_features=True)\n",
    "        output = output.view(output.size(0), -1)\n",
    "        output = myMLP(output)  # Already log probabilities\n",
    "\n",
    "        # Compute loss\n",
    "        loss = criterion(output, lbl)\n",
    "\n",
    "        # Backprop to get gradient w.r.t. x\n",
    "        loss.backward()\n",
    "        grad = x.grad\n",
    "\n",
    "        # Update momentum term (with L1-norm normalization)\n",
    "        grad_norm = torch.norm(grad, p=1) + 1e-8  # small eps to avoid div-by-zero\n",
    "        g = mu * g + grad / grad_norm\n",
    "\n",
    "        # FGSM-like step with sign of momentum\n",
    "        x = x + alpha * torch.sign(g)\n",
    "\n",
    "        # Detach and require grad for next iteration\n",
    "        x = x.detach().requires_grad_()\n",
    "\n",
    "    # Final adversarial image\n",
    "    adv_image = x.detach()\n",
    "\n",
    "    # Optionally move back to CPU for further processing\n",
    "    adv_image_cpu = adv_image.cpu()\n",
    "\n",
    "    # Evaluate the final probability for the true label\n",
    "    output = myCNN(adv_image.unsqueeze(0), get_features=True)\n",
    "    output = output.view(output.size(0), -1)\n",
    "    output = myMLP(output)  # log probabilities\n",
    "    p = torch.exp(output)[0, label].item()\n",
    "\n",
    "    return adv_image_cpu, p"
   ]
  },
  {
   "cell_type": "markdown",
   "metadata": {},
   "source": [
    "\n",
    "### Question 2 [1 point]"
   ]
  },
  {
   "cell_type": "markdown",
   "metadata": {},
   "source": [
    "#### Explain the role of the parameter epsilon in the function and how the algorithm is working.\n",
    "\n",
    "Epsilon ($\\epsilon$) is the 'size of the perturbation'. Intuitively it defines a search space around x, the maximum allowed change under the $L_\\infty$ norm, in which to find an adversarial example. The idea is that within this small $\\epsilon$-radius of our starting image, we can find a similar adversarial image which gives us a different output from the classifier and this adversarial example is at most '$\\epsilon$ far' from the original image. Higher epsilons have higher success rates in finding an adversarial example but at the cost of imperceptibility (i.e. the adverse example will be more different to the original).\n",
    "\n",
    "The algorithm starts by initialising the following variables. $\\alpha = \\frac{\\epsilon}{T}$, where T is the number of iterations, is set as a step size such that even if we travel in the same direction T times, we are at most $\\epsilon$ from the starting image and ensuring we stay within the $\\epsilon-L_\\infty$ ball. $g_0=0$ initialises our momentum variable to 0. And $x^*_0=x$ begins our search for the adversarial image at the original image.\n",
    "\n",
    "The algorithm loops for $0 \\leq t \\leq T-1$:\n",
    "- In each iteration it classifies the current image $x^*_t$ and computes the gradient of the loss function (in our case NLLLoss) with respect to $x^*_t$.\n",
    "- This gradient ($grad$) is then used to update the momentum variable as follows: $g_{t+1} = \\mu \\cdot g_t + \\frac{grad}{\\| grad \\|_1}$. The previous momentum is multiplied by a decay variable $\\mu$ and the newest normalised gradient is added. The decay variable determines how strongly the momentum rememberes gradients from far in the past. By building this momentum, the algorithm can better navigate the loss landscape, i.e. noisy or oscillating gradients, in search of the adversarial example.\n",
    "- Then the sign of the momentum $g_{t+1}$ is used to update the current image as follows: $x^*_{t+1} = x^*_t + \\alpha \\cdot \\text{sign}(g_{t+1})$. The effect of the momentum can be understood with a simple example, e.g. if there is lots of initial momentum in the positive direction and then a small amount in the negative direction, we can see how the momentum would likely still have positive sign. Therefore the algorithm would not react to the small negative gradient and continue the search in the positive direction.\n",
    "\n",
    "After T iterations, the current image is taken as the adversarial image."
   ]
  },
  {
   "cell_type": "markdown",
   "metadata": {},
   "source": [
    "***\n",
    "### Question 3 [0.5 point]"
   ]
  },
  {
   "cell_type": "code",
   "execution_count": 101,
   "metadata": {
    "ExecuteTime": {
     "end_time": "2025-03-22T18:25:29.394806Z",
     "start_time": "2025-03-22T18:25:29.193971Z"
    }
   },
   "outputs": [
    {
     "data": {
      "image/png": "[encoded data removed]",
      "text/plain": [
       "<Figure size 1000x500 with 2 Axes>"
      ]
     },
     "metadata": {},
     "output_type": "display_data"
    }
   ],
   "source": [
    "def rescale(img):\n",
    "    return (img + 1) / 2\n",
    "\n",
    "im, l = testset_small[5]\n",
    "adv, p = adversarial(cnn, mlp, im, l)\n",
    "\n",
    "diff = (adv - im)\n",
    "\n",
    "im_ = rescale(im).detach().numpy().transpose(1, 2, 0)\n",
    "adv_ = rescale(adv).detach().numpy().transpose(1, 2, 0)\n",
    "\n",
    "fig, ax = plt.subplots(1, 2, figsize=(10, 5))\n",
    "ax[0].imshow(im_)\n",
    "ax[1].imshow(adv_)\n",
    "ax[0].set_title(\"original\")\n",
    "ax[1].set_title(f\"adversarial p={p:.6f}\")\n",
    "ax[0].axis('off')\n",
    "ax[1].axis('off')\n",
    "plt.show()"
   ]
  },
  {
   "cell_type": "markdown",
   "metadata": {},
   "source": [
    "***\n",
    "### Question 4 [0.5 point]"
   ]
  },
  {
   "cell_type": "code",
   "execution_count": 111,
   "metadata": {
    "ExecuteTime": {
     "end_time": "2025-03-22T18:17:21.543903Z",
     "start_time": "2025-03-22T18:17:04.513468Z"
    }
   },
   "outputs": [
    {
     "data": {
      "text/plain": [
       "0.6532467532467533"
      ]
     },
     "execution_count": 111,
     "metadata": {},
     "output_type": "execute_result"
    }
   ],
   "source": [
    "def accuracy_adversarial(myCNN, myMLP, testloader_small, epsilon):\n",
    "    total_correct = 0\n",
    "    total_attacked = 0\n",
    "\n",
    "    device = torch.device(\"cuda:0\" if torch.cuda.is_available() else \"cpu\")\n",
    "\n",
    "    myCNN = myCNN.to(device)\n",
    "    myMLP = myMLP.to(device)\n",
    "\n",
    "    # iterate over all batches of the test images\n",
    "    for data in testloader_small:\n",
    "        images, labels = data\n",
    "        images = images.to(device)\n",
    "        labels = labels.to(device)\n",
    "\n",
    "        # Evaluate the fine-tuned model\n",
    "        outputs = myCNN.forward(images, get_features=True)\n",
    "        outputs = outputs.view(outputs.shape[0], -1)\n",
    "        outputs = torch.exp(myMLP(outputs))\n",
    "        output_argmax = torch.argmax(outputs, dim=-1)\n",
    "        correct = (output_argmax == labels)\n",
    "\n",
    "        # Loop over the images classified correctly in the current batch\n",
    "        for im, lbl in zip(images[correct], labels[correct]):\n",
    "\n",
    "            total_correct += 1\n",
    "            # Generate an adversarial example\n",
    "            adv, p = adversarial(myCNN, myMLP, im, lbl, epsilon)\n",
    "            # Check if the attack was successful\n",
    "            if p < 0.5:\n",
    "                total_attacked += 1\n",
    "\n",
    "    return total_attacked / total_correct\n",
    "accuracy_adversarial(cnn, mlp, testloader_small, 0.05)"
   ]
  },
  {
   "cell_type": "markdown",
   "metadata": {},
   "source": [
    "***\n",
    "### Question 5 [1 point]"
   ]
  },
  {
   "cell_type": "code",
   "execution_count": 114,
   "metadata": {
    "ExecuteTime": {
     "end_time": "2025-03-22T18:28:40.326921Z",
     "start_time": "2025-03-22T18:27:20.721128Z"
    }
   },
   "outputs": [],
   "source": [
    "es = [0.02, 0.04, 0.06, 0.08, 0.1]\n",
    "adv_success_rates = [accuracy_adversarial(cnn, mlp, testloader_small, e) for e in es]"
   ]
  },
  {
   "cell_type": "code",
   "execution_count": 115,
   "metadata": {},
   "outputs": [
    {
     "data": {
      "image/png": "[encoded data removed]",
      "text/plain": [
       "<Figure size 640x480 with 1 Axes>"
      ]
     },
     "metadata": {},
     "output_type": "display_data"
    },
    {
     "data": {
      "text/plain": [
       "[(0.02, 0.2545454545454545),\n",
       " (0.04, 0.5545454545454546),\n",
       " (0.06, 0.7207792207792207),\n",
       " (0.08, 0.7974025974025974),\n",
       " (0.1, 0.8428571428571429)]"
      ]
     },
     "execution_count": 115,
     "metadata": {},
     "output_type": "execute_result"
    }
   ],
   "source": [
    "plt.plot(es, adv_success_rates, marker='X')\n",
    "\n",
    "plt.xlabel('epsilon')\n",
    "plt.ylabel('adversarial success rate')\n",
    "\n",
    "plt.show()\n",
    "list(zip(es, adv_success_rates))"
   ]
  },
  {
   "cell_type": "markdown",
   "metadata": {},
   "source": [
    "#### comment on results\n",
    "\n",
    "The trend is that the success rate of finding an adversarial image grows with $\\epsilon$. From $\\epsilon=0.02$ to $0.06$, there is quite a sharp increase from 25% to 72%, after which it plateaus to 84% at $\\epsilon=0.1$.\n",
    "\n",
    "This outcome is expected. As explained in the description of the algorithm, $\\epsilon$ defines the $L_\\infty$ ball around the original image (pixel-wise) in which we can search for an adversarial example. Higher epsilon will naturally result in higher success rate due to the fact we have a wider search radius and we can stray further from the original in search of an image that the classifier thinks is different. However, if we compared successful examples at $\\epsilon=1$ and $\\epsilon=0.05$ to the original, the $\\epsilon=0.05$ example would likely be more similar and be considered a better adversarial example as it was able to fool the classifier with less changes to the input.\n",
    "\n",
    "The rapid increase at smaller epsilons indicate that the model is robust at these small epsilons but quickly becomes vulnerable to attack as epsilon grows. The plateauing curve shows diminishing returns past $\\epsilon=0.1$."
   ]
  },
  {
   "cell_type": "markdown",
   "metadata": {},
   "source": [
    "***\n",
    "### Question 6 [0.5 point]"
   ]
  },
  {
   "cell_type": "markdown",
   "metadata": {},
   "source": [
    "#### Comment on the impact of adversarial attacks in real-world applications and discuss possible ways to mitigate them. (Machine learning researchers are usually required to include a broader impact statement in their papers about potential consequences of their work, which is why I’m including this question)\n",
    "\n",
    "Adversarial attacks can have an impact anywhere that machine learning models are deployed in the real world, especially in security and privacy sentitive settings. E.g.: \n",
    "- Autonomous vehicles may not decide to brake at the sight due to the mis-classification of a human or obstacle on the road in the object detection software.\n",
    "- Medical diagnosis software used to scan MRIs and X-rays. A segmentation model can fail to identify a tumor or hairline fracture in an image and thereby resulting in a critital mis-diagnosis of the patient.\n",
    "- Biometric authentication systems must be absolutely robust to small perturbations in input fingerprint/facial scan so as to not allow for unauthorised access.\n",
    "\n",
    "Each of the above examples could have widespread and detremental impact if the adversarial attacks are not properly accounted for in the deployment of these ml models. Therefore it is essential that these developers investivate the robustness of their models.\n",
    "\n",
    "There are many ways of mitigating these adversarial attacks: E.g.:\n",
    "- Training/tuning models on adversarially collected images. This method allows the model to learn from its mistakes and define better decision boundaries between classes, becoming more robust against small perturbations in its input. This method might take time and effort to collect enough examples and then fine tune the model.\n",
    "- Training with augmentation e.g. cropping, resizing, adding small amounts of noise, random colour scale adjustments. Used in the appropriate setting for images, e.g. our example above would have worked, augmentations work as a regularisation and makes the model more robust to small insignificant changes that it might have otherwise been fooled by. This method has close to no additional cost at training time and none at evaluation time. \n",
    "- Ensemble models. This method runs multiple trained versions of the model, usually in parallel, and combines them to create an output. E.g. out of 5 models, 4 classify the image as class 3 and 1 classifies as class 2, the overall vote would lean in favour of class 4. We can easily see how this would make it harder for adversarial examples to fool more than one model. You could also use ensemble models to run confidence checks and evaluating statistical significance of outcomes. However this comes at a large cost of not only storing but also running computation on all of these unique models.\n",
    "- Monte-carlo dropout model. Models can be designed with dropout layers. Inference on the input can be run multiple times, each time giving the dropout layers a chance to regularise the model differently. We can therefore use this one model in the same way as the ensemble models described previously."
   ]
  },
  {
   "cell_type": "code",
   "execution_count": null,
   "metadata": {},
   "outputs": [],
   "source": []
  }
 ],
 "metadata": {
  "kernelspec": {
   "display_name": "mml",
   "language": "python",
   "name": "mml"
  },
  "language_info": {
   "codemirror_mode": {
    "name": "ipython",
    "version": 3
   },
   "file_extension": ".py",
   "mimetype": "text/x-python",
   "name": "python",
   "nbconvert_exporter": "python",
   "pygments_lexer": "ipython3",
   "version": "3.12.7"
  }
 },
 "nbformat": 4,
 "nbformat_minor": 4
}
